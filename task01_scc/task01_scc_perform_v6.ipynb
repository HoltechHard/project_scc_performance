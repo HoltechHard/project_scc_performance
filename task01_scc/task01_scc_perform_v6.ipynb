{
 "cells": [
  {
   "cell_type": "markdown",
   "metadata": {},
   "source": [
    "# Task 01: Prediction for time of using SCC - Regression"
   ]
  },
  {
   "cell_type": "markdown",
   "metadata": {},
   "source": [
    "METADATA - SUPERCOMP INFORMATION\n",
    "--------------------------------\n",
    "\n",
    "Id - index\n",
    "UID - user id                                                               [unused]  \n",
    "GID - group id                                                              [unused]  \n",
    "Area - subject area (defined by group)                                      [categorical -> OK]   \n",
    "JobName - task name specified by the user                                   [categorical -> OK]  \n",
    "Partition - the cluster on which the task was launched                      [categorical -> OK]  \n",
    "ReqNodes - requested number of nodes                                        [numerical]  \n",
    "ReqCPUS - requested number of processors                                    [numerical]  \n",
    "Timelimit - user estimate of task completion time                           [encoding time -> OK]  \n",
    "Submit - date when the task was uploaded to the system                      [encoding date -> OK]  \n",
    "Start - the date when the task was launched for execution by the scheduler  [encoding date -> OK]  \n",
    "Priority - task priority                                                    [numerical -> OK]  \n",
    "Elapsed - actual task execution time (target variable Y)                    [encoding time -> OK]  \n",
    "State - information about how the task completed (successfully, was canceled, etc.)   [categorical -> OK]  \n",
    "ExitCode - code generated after some scc task                               [categorical -> OK]  "
   ]
  },
  {
   "cell_type": "code",
   "execution_count": 1,
   "metadata": {},
   "outputs": [
    {
     "name": "stdout",
     "output_type": "stream",
     "text": [
      "Tue Mar 19 14:42:05 2024       \n",
      "+-----------------------------------------------------------------------------+\n",
      "| NVIDIA-SMI 520.61.05    Driver Version: 520.61.05    CUDA Version: 11.8     |\n",
      "|-------------------------------+----------------------+----------------------+\n",
      "| GPU  Name        Persistence-M| Bus-Id        Disp.A | Volatile Uncorr. ECC |\n",
      "| Fan  Temp  Perf  Pwr:Usage/Cap|         Memory-Usage | GPU-Util  Compute M. |\n",
      "|                               |                      |               MIG M. |\n",
      "|===============================+======================+======================|\n",
      "|   0  Tesla V100-SXM2...  On   | 00000000:1F:00.0 Off |                    0 |\n",
      "| N/A   35C    P0    41W / 300W |      3MiB / 32768MiB |      0%      Default |\n",
      "|                               |                      |                  N/A |\n",
      "+-------------------------------+----------------------+----------------------+\n",
      "|   1  Tesla V100-SXM2...  On   | 00000000:20:00.0 Off |                    0 |\n",
      "| N/A   36C    P0    40W / 300W |      3MiB / 32768MiB |      0%      Default |\n",
      "|                               |                      |                  N/A |\n",
      "+-------------------------------+----------------------+----------------------+\n",
      "|   2  Tesla V100-SXM2...  On   | 00000000:65:00.0 Off |                    0 |\n",
      "| N/A   33C    P0    39W / 300W |      0MiB / 32768MiB |      0%      Default |\n",
      "|                               |                      |                  N/A |\n",
      "+-------------------------------+----------------------+----------------------+\n",
      "|   3  Tesla V100-SXM2...  On   | 00000000:66:00.0 Off |                    0 |\n",
      "| N/A   33C    P0    40W / 300W |      0MiB / 32768MiB |      0%      Default |\n",
      "|                               |                      |                  N/A |\n",
      "+-------------------------------+----------------------+----------------------+\n",
      "|   4  Tesla V100-SXM2...  On   | 00000000:B6:00.0 Off |                    0 |\n",
      "| N/A   34C    P0    44W / 300W |      0MiB / 32768MiB |      0%      Default |\n",
      "|                               |                      |                  N/A |\n",
      "+-------------------------------+----------------------+----------------------+\n",
      "|   5  Tesla V100-SXM2...  On   | 00000000:B7:00.0 Off |                    0 |\n",
      "| N/A   34C    P0    39W / 300W |      0MiB / 32768MiB |      0%      Default |\n",
      "|                               |                      |                  N/A |\n",
      "+-------------------------------+----------------------+----------------------+\n",
      "|   6  Tesla V100-SXM2...  On   | 00000000:DF:00.0 Off |                    0 |\n",
      "| N/A   34C    P0    42W / 300W |      0MiB / 32768MiB |      0%      Default |\n",
      "|                               |                      |                  N/A |\n",
      "+-------------------------------+----------------------+----------------------+\n",
      "|   7  Tesla V100-SXM2...  On   | 00000000:E0:00.0 Off |                    0 |\n",
      "| N/A   35C    P0    38W / 300W |      0MiB / 32768MiB |      0%      Default |\n",
      "|                               |                      |                  N/A |\n",
      "+-------------------------------+----------------------+----------------------+\n",
      "                                                                               \n",
      "+-----------------------------------------------------------------------------+\n",
      "| Processes:                                                                  |\n",
      "|  GPU   GI   CI        PID   Type   Process name                  GPU Memory |\n",
      "|        ID   ID                                                   Usage      |\n",
      "|=============================================================================|\n",
      "|  No running processes found                                                 |\n",
      "+-----------------------------------------------------------------------------+\n"
     ]
    }
   ],
   "source": [
    "!nvidia-smi"
   ]
  },
  {
   "cell_type": "markdown",
   "metadata": {},
   "source": [
    "### Step 1: Preprocessing"
   ]
  },
  {
   "cell_type": "code",
   "execution_count": 2,
   "metadata": {},
   "outputs": [],
   "source": [
    "# import packages \n",
    "import numpy as np\n",
    "import pandas as pd\n",
    "import matplotlib.pyplot as plt\n",
    "import shap\n",
    "import seaborn as sns"
   ]
  },
  {
   "cell_type": "code",
   "execution_count": 3,
   "metadata": {},
   "outputs": [],
   "source": [
    "# load dataset\n",
    "dataset = pd.read_csv(\"datasets/scc_data.csv\")"
   ]
  },
  {
   "cell_type": "code",
   "execution_count": 4,
   "metadata": {},
   "outputs": [
    {
     "data": {
      "text/html": [
       "<div>\n",
       "<style scoped>\n",
       "    .dataframe tbody tr th:only-of-type {\n",
       "        vertical-align: middle;\n",
       "    }\n",
       "\n",
       "    .dataframe tbody tr th {\n",
       "        vertical-align: top;\n",
       "    }\n",
       "\n",
       "    .dataframe thead th {\n",
       "        text-align: right;\n",
       "    }\n",
       "</style>\n",
       "<table border=\"1\" class=\"dataframe\">\n",
       "  <thead>\n",
       "    <tr style=\"text-align: right;\">\n",
       "      <th></th>\n",
       "      <th>Id</th>\n",
       "      <th>UID</th>\n",
       "      <th>GID</th>\n",
       "      <th>Area</th>\n",
       "      <th>JobName</th>\n",
       "      <th>Partition</th>\n",
       "      <th>ReqNodes</th>\n",
       "      <th>ReqCPUS</th>\n",
       "      <th>Timelimit</th>\n",
       "      <th>Submit</th>\n",
       "      <th>Start</th>\n",
       "      <th>Elapsed</th>\n",
       "      <th>Priority</th>\n",
       "      <th>State</th>\n",
       "      <th>ExitCode</th>\n",
       "    </tr>\n",
       "  </thead>\n",
       "  <tbody>\n",
       "    <tr>\n",
       "      <th>0</th>\n",
       "      <td>0</td>\n",
       "      <td>1420</td>\n",
       "      <td>88068</td>\n",
       "      <td>astrophys</td>\n",
       "      <td>Smilei0</td>\n",
       "      <td>tornado</td>\n",
       "      <td>70</td>\n",
       "      <td>1960</td>\n",
       "      <td>10-00:00:00</td>\n",
       "      <td>2021-08-11T16:53:04</td>\n",
       "      <td>2021-09-17T09:46:21</td>\n",
       "      <td>1-11:27:29</td>\n",
       "      <td>1</td>\n",
       "      <td>CANCELLED by 50260</td>\n",
       "      <td>0:0</td>\n",
       "    </tr>\n",
       "    <tr>\n",
       "      <th>1</th>\n",
       "      <td>1</td>\n",
       "      <td>52951</td>\n",
       "      <td>3414</td>\n",
       "      <td>phys</td>\n",
       "      <td>v149_td</td>\n",
       "      <td>tornado</td>\n",
       "      <td>2</td>\n",
       "      <td>56</td>\n",
       "      <td>14-00:00:00</td>\n",
       "      <td>2021-08-18T10:38:10</td>\n",
       "      <td>2021-08-18T10:46:12</td>\n",
       "      <td>14-00:00:38</td>\n",
       "      <td>1</td>\n",
       "      <td>TIMEOUT</td>\n",
       "      <td>0:0</td>\n",
       "    </tr>\n",
       "    <tr>\n",
       "      <th>2</th>\n",
       "      <td>2</td>\n",
       "      <td>24801</td>\n",
       "      <td>97723</td>\n",
       "      <td>mech</td>\n",
       "      <td>fluent</td>\n",
       "      <td>tornado</td>\n",
       "      <td>6</td>\n",
       "      <td>168</td>\n",
       "      <td>14-00:00:00</td>\n",
       "      <td>2021-08-18T14:50:05</td>\n",
       "      <td>2021-08-18T14:50:05</td>\n",
       "      <td>13-21:05:40</td>\n",
       "      <td>1</td>\n",
       "      <td>CANCELLED by 50341</td>\n",
       "      <td>0:0</td>\n",
       "    </tr>\n",
       "    <tr>\n",
       "      <th>3</th>\n",
       "      <td>3</td>\n",
       "      <td>24801</td>\n",
       "      <td>97723</td>\n",
       "      <td>mech</td>\n",
       "      <td>fluent</td>\n",
       "      <td>tornado</td>\n",
       "      <td>6</td>\n",
       "      <td>168</td>\n",
       "      <td>14-00:00:00</td>\n",
       "      <td>2021-08-18T14:52:31</td>\n",
       "      <td>2021-08-18T14:52:32</td>\n",
       "      <td>13-21:04:39</td>\n",
       "      <td>1</td>\n",
       "      <td>CANCELLED by 50341</td>\n",
       "      <td>0:0</td>\n",
       "    </tr>\n",
       "    <tr>\n",
       "      <th>4</th>\n",
       "      <td>4</td>\n",
       "      <td>70802</td>\n",
       "      <td>33028</td>\n",
       "      <td>energ</td>\n",
       "      <td>dcss.slurm</td>\n",
       "      <td>tornado-k40</td>\n",
       "      <td>1</td>\n",
       "      <td>1</td>\n",
       "      <td>14-00:00:00</td>\n",
       "      <td>2021-08-19T15:33:49</td>\n",
       "      <td>2021-08-19T15:33:50</td>\n",
       "      <td>14-00:00:04</td>\n",
       "      <td>1</td>\n",
       "      <td>TIMEOUT</td>\n",
       "      <td>0:0</td>\n",
       "    </tr>\n",
       "  </tbody>\n",
       "</table>\n",
       "</div>"
      ],
      "text/plain": [
       "   Id    UID    GID       Area     JobName    Partition  ReqNodes  ReqCPUS  \\\n",
       "0   0   1420  88068  astrophys     Smilei0      tornado        70     1960   \n",
       "1   1  52951   3414       phys     v149_td      tornado         2       56   \n",
       "2   2  24801  97723       mech      fluent      tornado         6      168   \n",
       "3   3  24801  97723       mech      fluent      tornado         6      168   \n",
       "4   4  70802  33028      energ  dcss.slurm  tornado-k40         1        1   \n",
       "\n",
       "     Timelimit               Submit                Start      Elapsed  \\\n",
       "0  10-00:00:00  2021-08-11T16:53:04  2021-09-17T09:46:21   1-11:27:29   \n",
       "1  14-00:00:00  2021-08-18T10:38:10  2021-08-18T10:46:12  14-00:00:38   \n",
       "2  14-00:00:00  2021-08-18T14:50:05  2021-08-18T14:50:05  13-21:05:40   \n",
       "3  14-00:00:00  2021-08-18T14:52:31  2021-08-18T14:52:32  13-21:04:39   \n",
       "4  14-00:00:00  2021-08-19T15:33:49  2021-08-19T15:33:50  14-00:00:04   \n",
       "\n",
       "   Priority               State ExitCode  \n",
       "0         1  CANCELLED by 50260      0:0  \n",
       "1         1             TIMEOUT      0:0  \n",
       "2         1  CANCELLED by 50341      0:0  \n",
       "3         1  CANCELLED by 50341      0:0  \n",
       "4         1             TIMEOUT      0:0  "
      ]
     },
     "execution_count": 4,
     "metadata": {},
     "output_type": "execute_result"
    }
   ],
   "source": [
    "data = dataset\n",
    "data.head()"
   ]
  },
  {
   "cell_type": "code",
   "execution_count": 5,
   "metadata": {},
   "outputs": [
    {
     "name": "stdout",
     "output_type": "stream",
     "text": [
      "#users =  245\n"
     ]
    }
   ],
   "source": [
    "print(\"#users = \", len(dataset[\"UID\"].unique()))"
   ]
  },
  {
   "cell_type": "code",
   "execution_count": 6,
   "metadata": {},
   "outputs": [
    {
     "name": "stdout",
     "output_type": "stream",
     "text": [
      "#total of samples =  1290729\n"
     ]
    }
   ],
   "source": [
    "print(\"#total of samples = \", len(data))"
   ]
  },
  {
   "cell_type": "code",
   "execution_count": 7,
   "metadata": {},
   "outputs": [
    {
     "data": {
      "image/png": "[encoded data removed]",
      "text/plain": [
       "<Figure size 834.875x500 with 1 Axes>"
      ]
     },
     "metadata": {},
     "output_type": "display_data"
    }
   ],
   "source": [
    "# check missing data\n",
    "sns.displot(\n",
    "    data = data.isna().melt(value_name=\"missing\"),\n",
    "    y = \"variable\",\n",
    "    hue = \"missing\",\n",
    "    multiple = \"fill\",\n",
    "    aspect = 1.5\n",
    ")\n",
    "\n",
    "plt.show()"
   ]
  },
  {
   "cell_type": "code",
   "execution_count": 8,
   "metadata": {},
   "outputs": [
    {
     "name": "stdout",
     "output_type": "stream",
     "text": [
      "#total samples without missing values =  1275902\n"
     ]
    }
   ],
   "source": [
    "# drop rows with null values\n",
    "data = data.dropna().reset_index(drop = True)\n",
    "print(\"#total samples without missing values = \", len(data))"
   ]
  },
  {
   "cell_type": "code",
   "execution_count": 9,
   "metadata": {},
   "outputs": [
    {
     "name": "stdout",
     "output_type": "stream",
     "text": [
      "Number of samples:  1275902\n",
      "Columns =  Index(['Id', 'UID', 'GID', 'Area', 'JobName', 'Partition', 'ReqNodes',\n",
      "       'ReqCPUS', 'Timelimit', 'Submit', 'Start', 'Elapsed', 'Priority',\n",
      "       'State', 'ExitCode'],\n",
      "      dtype='object')\n",
      "#Columns =  15\n"
     ]
    }
   ],
   "source": [
    "# check information of dataset\n",
    "print(\"Number of samples: \", len(data.index))\n",
    "print(\"Columns = \", data.columns)\n",
    "print(\"#Columns = \", len(data.columns))"
   ]
  },
  {
   "cell_type": "markdown",
   "metadata": {},
   "source": [
    "Dates encoding"
   ]
  },
  {
   "cell_type": "code",
   "execution_count": 10,
   "metadata": {},
   "outputs": [],
   "source": [
    "import calendar\n",
    "\n",
    "def encoding_date(data, name_col):\n",
    "    #categorical variants of values\n",
    "    year_names = list(np.arange(2020, 2025, 1))\n",
    "    year_variants = [f\"{name_col}Year{i}\" for i in year_names]\n",
    "    month_names = list(calendar.month_name)\n",
    "    month_variants = [f\"{name_col}Month{j}\" for j in month_names if j!='']\n",
    "    dayw_names = list(calendar.day_name)\n",
    "    dayw_variants = [f\"{name_col}DayofWeek{k}\" for k in dayw_names]\n",
    "    # temporal dataframe\n",
    "    tmp_cols = year_variants + month_variants + dayw_variants\n",
    "    tmp_frame = pd.DataFrame(np.zeros((len(data), len(tmp_cols))), columns = tmp_cols)\n",
    "    # generate datetime\n",
    "    dates_mod = pd.to_datetime(data[name_col])\n",
    "    \n",
    "    for i in range(len(data)):        \n",
    "        tmp_frame.loc[i, f\"{name_col}Year{dates_mod[i].year}\"] = 1\n",
    "        tmp_frame.loc[i, f\"{name_col}Month{calendar.month_name[dates_mod[i].month]}\"] = 1\n",
    "        tmp_frame.loc[i, f\"{name_col}DayofWeek{calendar.day_name[dates_mod[i].day_of_week]}\"] = 1\n",
    "\n",
    "    # concatenate data-frames\n",
    "    data = pd.concat([data, tmp_frame], axis = 1, ignore_index = False)\n",
    "\n",
    "    return data"
   ]
  },
  {
   "cell_type": "markdown",
   "metadata": {},
   "source": [
    "Encoding states"
   ]
  },
  {
   "cell_type": "code",
   "execution_count": 11,
   "metadata": {},
   "outputs": [],
   "source": [
    "def replace_cancelled_states(status):\n",
    "    if \"CANCELLED\" in status:\n",
    "        return \"CANCELLED\"\n",
    "    return status"
   ]
  },
  {
   "cell_type": "code",
   "execution_count": 12,
   "metadata": {},
   "outputs": [],
   "source": [
    "def encoding_states(data, column):\n",
    "    data[column] = data[column].apply(lambda x: replace_cancelled_states(x))\n",
    "    return data"
   ]
  },
  {
   "cell_type": "code",
   "execution_count": 13,
   "metadata": {},
   "outputs": [],
   "source": [
    "data = encoding_states(data, \"State\")"
   ]
  },
  {
   "cell_type": "markdown",
   "metadata": {},
   "source": [
    "Transcurring time encoding  \n",
    "Format: D-HH:MM:SS"
   ]
  },
  {
   "cell_type": "code",
   "execution_count": 14,
   "metadata": {},
   "outputs": [],
   "source": [
    "# function to convert transcurred time to seconds\n",
    "def time_conversion(time_data):\n",
    "    # extract time units\n",
    "    if \"-\" in time_data:\n",
    "        days, timer = time_data.split(\"-\")\n",
    "    else:\n",
    "        days = 0\n",
    "        timer = time_data \n",
    "    \n",
    "    days = int(days)\n",
    "    hours, min, sec = map(int, timer.split(\":\"))\n",
    "\n",
    "    # calculate total seconds\n",
    "    total_sec = days*24*60*60 + hours*60*60 + min*60 + sec\n",
    "    \n",
    "    return total_sec"
   ]
  },
  {
   "cell_type": "code",
   "execution_count": 15,
   "metadata": {},
   "outputs": [],
   "source": [
    "# function to encode transcurred time for entire column\n",
    "def encoding_time(data, name_col):\n",
    "    data[name_col+\"Tsec\"] = data[name_col].apply(time_conversion)\n",
    "\n",
    "    return data"
   ]
  },
  {
   "cell_type": "markdown",
   "metadata": {},
   "source": [
    "Encode time difference between Task submitted and started"
   ]
  },
  {
   "cell_type": "code",
   "execution_count": 16,
   "metadata": {},
   "outputs": [],
   "source": [
    "# function to calculate difference between 2 dates\n",
    "from datetime import datetime\n",
    "\n",
    "def difference_dates(date1, date2):\n",
    "    dformat = \"%Y-%m-%dT%H:%M:%S\"\n",
    "    date1 = datetime.strptime(date1, dformat)\n",
    "    date2 = datetime.strptime(date2, dformat)\n",
    "    tdiff = date2 - date2\n",
    "\n",
    "    return tdiff.total_seconds()"
   ]
  },
  {
   "cell_type": "code",
   "execution_count": 17,
   "metadata": {},
   "outputs": [],
   "source": [
    "# function to calculate wait time between submission and start task\n",
    "def encode_twatting(data, col1, col2):\n",
    "    data[\"WaittingTsec\"] = data.apply(lambda row: difference_dates(row[col1], row[col2]), axis = 1)\n",
    "\n",
    "    return data"
   ]
  },
  {
   "cell_type": "markdown",
   "metadata": {},
   "source": [
    "One-hot encoding for categorical variables"
   ]
  },
  {
   "cell_type": "code",
   "execution_count": 18,
   "metadata": {},
   "outputs": [
    {
     "name": "stdout",
     "output_type": "stream",
     "text": [
      "#Area =  10\n",
      "#JobName =  801125\n",
      "#Partition =  5\n",
      "#State =  6\n",
      "#Exit-code =  84\n"
     ]
    }
   ],
   "source": [
    "# check number of different instances per each categorical variable\n",
    "print(\"#Area = \", data[\"Area\"].nunique())\n",
    "print(\"#JobName = \", data[\"JobName\"].nunique())  # not relevant\n",
    "print(\"#Partition = \", data[\"Partition\"].nunique())\n",
    "print(\"#State = \", data[\"State\"].nunique())\n",
    "print(\"#Exit-code = \", data[\"ExitCode\"].nunique())  # not relevant"
   ]
  },
  {
   "cell_type": "code",
   "execution_count": 19,
   "metadata": {},
   "outputs": [],
   "source": [
    "# extract levels of categories\n",
    "dict_categories = {\n",
    "    \"Area\": data[\"Area\"].unique().tolist(),\n",
    "    \"Partition\": data[\"Partition\"].unique().tolist(),\n",
    "    \"State\": data[\"State\"].unique().tolist()\n",
    "}"
   ]
  },
  {
   "cell_type": "code",
   "execution_count": 20,
   "metadata": {},
   "outputs": [],
   "source": [
    "# store dictionary of categories\n",
    "import json\n",
    "\n",
    "def save_dictionary(dict, file_path):\n",
    "    with open(file_path, \"w\") as file:\n",
    "        json.dump(dict, file)"
   ]
  },
  {
   "cell_type": "code",
   "execution_count": 21,
   "metadata": {},
   "outputs": [],
   "source": [
    "save_dictionary(dict_categories, \"datasets/db_features.json\")"
   ]
  },
  {
   "cell_type": "code",
   "execution_count": 22,
   "metadata": {},
   "outputs": [],
   "source": [
    "# load dictionary\n",
    "def load_dictionary(file_path):\n",
    "    with open(file_path, \"r\") as file:\n",
    "        return json.load(file)"
   ]
  },
  {
   "cell_type": "code",
   "execution_count": 23,
   "metadata": {},
   "outputs": [],
   "source": [
    "# load dictionary\n",
    "db_categories = load_dictionary(\"datasets/db_features.json\")"
   ]
  },
  {
   "cell_type": "code",
   "execution_count": 24,
   "metadata": {},
   "outputs": [
    {
     "data": {
      "text/plain": [
       "['Area', 'Partition', 'State']"
      ]
     },
     "execution_count": 24,
     "metadata": {},
     "output_type": "execute_result"
    }
   ],
   "source": [
    "list(db_categories.keys())"
   ]
  },
  {
   "cell_type": "code",
   "execution_count": 25,
   "metadata": {},
   "outputs": [],
   "source": [
    "# one-hot encoder for categorical variables \n",
    "def encoding_category(data, category):\n",
    "    col_instances = [f\"{category}{i}\" for i in db_categories[category]]\n",
    "    tmp_df = pd.DataFrame(np.zeros((len(data), len(col_instances))), columns = col_instances)\n",
    "    for i in range(len(data)):        \n",
    "        tmp_df.loc[i, f\"{category}{data[category][i]}\"] = 1\n",
    "    # concatenate data-frames\n",
    "    data = pd.concat([data, tmp_df], axis = 1, ignore_index = False)\n",
    "\n",
    "    return data"
   ]
  },
  {
   "cell_type": "markdown",
   "metadata": {},
   "source": [
    "Final pipeline for data preprocessing"
   ]
  },
  {
   "cell_type": "code",
   "execution_count": 26,
   "metadata": {},
   "outputs": [],
   "source": [
    "# master function pipeline for preprocessing input data\n",
    "def preprocessing_pipeline(data, db_categories):        \n",
    "    # drop Id, UID, GID\n",
    "    data = data.drop(columns = [\"Id\", \"UID\", \"GID\", \"JobName\", \"ExitCode\"])\n",
    "    # encode the Submit dates\n",
    "    data = encoding_date(data, \"Submit\")\n",
    "    # encode the Start dates\n",
    "    data = encoding_date(data, \"Start\")\n",
    "    # encode states\n",
    "    data = encoding_states(data, \"State\")\n",
    "    # encode the Time limit\n",
    "    data = encoding_time(data, \"Timelimit\")\n",
    "    # encode the Time elapsed\n",
    "    data = encoding_time(data, \"Elapsed\")\n",
    "    # encode the Time of waitting\n",
    "    data = encode_twatting(data, \"Submit\", \"Start\")\n",
    "    # drop some preprocessed columns\n",
    "    data = data.drop(columns = [\"Submit\", \"Start\", \"Timelimit\", \"Elapsed\"])\n",
    "    \n",
    "    # one-hot encoding for categorical variables\n",
    "    list_cats = list(db_categories.keys())\n",
    "\n",
    "    for category in list_cats:\n",
    "        data = encoding_category(data, category)    \n",
    "    # drop the original preprocessed columns\n",
    "    data = data.drop(columns = list_cats)    \n",
    "\n",
    "    return data"
   ]
  },
  {
   "cell_type": "code",
   "execution_count": 27,
   "metadata": {},
   "outputs": [],
   "source": [
    "import time\n",
    "start_tpreproc = time.time()"
   ]
  },
  {
   "cell_type": "code",
   "execution_count": 28,
   "metadata": {},
   "outputs": [
    {
     "data": {
      "text/html": [
       "<div>\n",
       "<style scoped>\n",
       "    .dataframe tbody tr th:only-of-type {\n",
       "        vertical-align: middle;\n",
       "    }\n",
       "\n",
       "    .dataframe tbody tr th {\n",
       "        vertical-align: top;\n",
       "    }\n",
       "\n",
       "    .dataframe thead th {\n",
       "        text-align: right;\n",
       "    }\n",
       "</style>\n",
       "<table border=\"1\" class=\"dataframe\">\n",
       "  <thead>\n",
       "    <tr style=\"text-align: right;\">\n",
       "      <th></th>\n",
       "      <th>ReqNodes</th>\n",
       "      <th>ReqCPUS</th>\n",
       "      <th>Priority</th>\n",
       "      <th>SubmitYear2020</th>\n",
       "      <th>SubmitYear2021</th>\n",
       "      <th>SubmitYear2022</th>\n",
       "      <th>SubmitYear2023</th>\n",
       "      <th>SubmitYear2024</th>\n",
       "      <th>SubmitMonthJanuary</th>\n",
       "      <th>SubmitMonthFebruary</th>\n",
       "      <th>...</th>\n",
       "      <th>Partitiontornado-k40</th>\n",
       "      <th>Partitiong2</th>\n",
       "      <th>Partitioncascade</th>\n",
       "      <th>Partitionnv</th>\n",
       "      <th>StateCANCELLED</th>\n",
       "      <th>StateTIMEOUT</th>\n",
       "      <th>StateCOMPLETED</th>\n",
       "      <th>StateFAILED</th>\n",
       "      <th>StateNODE_FAIL</th>\n",
       "      <th>StateOUT_OF_MEMORY</th>\n",
       "    </tr>\n",
       "  </thead>\n",
       "  <tbody>\n",
       "    <tr>\n",
       "      <th>1275897</th>\n",
       "      <td>1</td>\n",
       "      <td>28</td>\n",
       "      <td>480</td>\n",
       "      <td>0.0</td>\n",
       "      <td>0.0</td>\n",
       "      <td>0.0</td>\n",
       "      <td>1.0</td>\n",
       "      <td>0.0</td>\n",
       "      <td>0.0</td>\n",
       "      <td>0.0</td>\n",
       "      <td>...</td>\n",
       "      <td>0.0</td>\n",
       "      <td>0.0</td>\n",
       "      <td>0.0</td>\n",
       "      <td>0.0</td>\n",
       "      <td>0.0</td>\n",
       "      <td>0.0</td>\n",
       "      <td>1.0</td>\n",
       "      <td>0.0</td>\n",
       "      <td>0.0</td>\n",
       "      <td>0.0</td>\n",
       "    </tr>\n",
       "    <tr>\n",
       "      <th>1275898</th>\n",
       "      <td>1</td>\n",
       "      <td>28</td>\n",
       "      <td>480</td>\n",
       "      <td>0.0</td>\n",
       "      <td>0.0</td>\n",
       "      <td>0.0</td>\n",
       "      <td>1.0</td>\n",
       "      <td>0.0</td>\n",
       "      <td>0.0</td>\n",
       "      <td>0.0</td>\n",
       "      <td>...</td>\n",
       "      <td>0.0</td>\n",
       "      <td>0.0</td>\n",
       "      <td>0.0</td>\n",
       "      <td>0.0</td>\n",
       "      <td>0.0</td>\n",
       "      <td>0.0</td>\n",
       "      <td>1.0</td>\n",
       "      <td>0.0</td>\n",
       "      <td>0.0</td>\n",
       "      <td>0.0</td>\n",
       "    </tr>\n",
       "    <tr>\n",
       "      <th>1275899</th>\n",
       "      <td>1</td>\n",
       "      <td>28</td>\n",
       "      <td>480</td>\n",
       "      <td>0.0</td>\n",
       "      <td>0.0</td>\n",
       "      <td>0.0</td>\n",
       "      <td>1.0</td>\n",
       "      <td>0.0</td>\n",
       "      <td>0.0</td>\n",
       "      <td>0.0</td>\n",
       "      <td>...</td>\n",
       "      <td>0.0</td>\n",
       "      <td>0.0</td>\n",
       "      <td>0.0</td>\n",
       "      <td>0.0</td>\n",
       "      <td>0.0</td>\n",
       "      <td>0.0</td>\n",
       "      <td>1.0</td>\n",
       "      <td>0.0</td>\n",
       "      <td>0.0</td>\n",
       "      <td>0.0</td>\n",
       "    </tr>\n",
       "    <tr>\n",
       "      <th>1275900</th>\n",
       "      <td>1</td>\n",
       "      <td>1</td>\n",
       "      <td>233</td>\n",
       "      <td>0.0</td>\n",
       "      <td>0.0</td>\n",
       "      <td>0.0</td>\n",
       "      <td>1.0</td>\n",
       "      <td>0.0</td>\n",
       "      <td>0.0</td>\n",
       "      <td>0.0</td>\n",
       "      <td>...</td>\n",
       "      <td>0.0</td>\n",
       "      <td>0.0</td>\n",
       "      <td>0.0</td>\n",
       "      <td>0.0</td>\n",
       "      <td>0.0</td>\n",
       "      <td>0.0</td>\n",
       "      <td>1.0</td>\n",
       "      <td>0.0</td>\n",
       "      <td>0.0</td>\n",
       "      <td>0.0</td>\n",
       "    </tr>\n",
       "    <tr>\n",
       "      <th>1275901</th>\n",
       "      <td>1</td>\n",
       "      <td>1</td>\n",
       "      <td>233</td>\n",
       "      <td>0.0</td>\n",
       "      <td>0.0</td>\n",
       "      <td>0.0</td>\n",
       "      <td>1.0</td>\n",
       "      <td>0.0</td>\n",
       "      <td>0.0</td>\n",
       "      <td>0.0</td>\n",
       "      <td>...</td>\n",
       "      <td>0.0</td>\n",
       "      <td>0.0</td>\n",
       "      <td>0.0</td>\n",
       "      <td>0.0</td>\n",
       "      <td>0.0</td>\n",
       "      <td>0.0</td>\n",
       "      <td>1.0</td>\n",
       "      <td>0.0</td>\n",
       "      <td>0.0</td>\n",
       "      <td>0.0</td>\n",
       "    </tr>\n",
       "  </tbody>\n",
       "</table>\n",
       "<p>5 rows × 75 columns</p>\n",
       "</div>"
      ],
      "text/plain": [
       "         ReqNodes  ReqCPUS  Priority  SubmitYear2020  SubmitYear2021  \\\n",
       "1275897         1       28       480             0.0             0.0   \n",
       "1275898         1       28       480             0.0             0.0   \n",
       "1275899         1       28       480             0.0             0.0   \n",
       "1275900         1        1       233             0.0             0.0   \n",
       "1275901         1        1       233             0.0             0.0   \n",
       "\n",
       "         SubmitYear2022  SubmitYear2023  SubmitYear2024  SubmitMonthJanuary  \\\n",
       "1275897             0.0             1.0             0.0                 0.0   \n",
       "1275898             0.0             1.0             0.0                 0.0   \n",
       "1275899             0.0             1.0             0.0                 0.0   \n",
       "1275900             0.0             1.0             0.0                 0.0   \n",
       "1275901             0.0             1.0             0.0                 0.0   \n",
       "\n",
       "         SubmitMonthFebruary  ...  Partitiontornado-k40  Partitiong2  \\\n",
       "1275897                  0.0  ...                   0.0          0.0   \n",
       "1275898                  0.0  ...                   0.0          0.0   \n",
       "1275899                  0.0  ...                   0.0          0.0   \n",
       "1275900                  0.0  ...                   0.0          0.0   \n",
       "1275901                  0.0  ...                   0.0          0.0   \n",
       "\n",
       "         Partitioncascade  Partitionnv  StateCANCELLED  StateTIMEOUT  \\\n",
       "1275897               0.0          0.0             0.0           0.0   \n",
       "1275898               0.0          0.0             0.0           0.0   \n",
       "1275899               0.0          0.0             0.0           0.0   \n",
       "1275900               0.0          0.0             0.0           0.0   \n",
       "1275901               0.0          0.0             0.0           0.0   \n",
       "\n",
       "         StateCOMPLETED  StateFAILED  StateNODE_FAIL  StateOUT_OF_MEMORY  \n",
       "1275897             1.0          0.0             0.0                 0.0  \n",
       "1275898             1.0          0.0             0.0                 0.0  \n",
       "1275899             1.0          0.0             0.0                 0.0  \n",
       "1275900             1.0          0.0             0.0                 0.0  \n",
       "1275901             1.0          0.0             0.0                 0.0  \n",
       "\n",
       "[5 rows x 75 columns]"
      ]
     },
     "execution_count": 28,
     "metadata": {},
     "output_type": "execute_result"
    }
   ],
   "source": [
    "# preprocess entire data\n",
    "data = preprocessing_pipeline(data, db_categories)\n",
    "data.tail()"
   ]
  },
  {
   "cell_type": "code",
   "execution_count": 29,
   "metadata": {},
   "outputs": [
    {
     "name": "stdout",
     "output_type": "stream",
     "text": [
      "Preprocessing time: 1860.072135925293 seconds\n"
     ]
    }
   ],
   "source": [
    "end_tpreproc = time.time()\n",
    "print(f\"Preprocessing time: {end_tpreproc - start_tpreproc} seconds\")"
   ]
  },
  {
   "cell_type": "code",
   "execution_count": 30,
   "metadata": {},
   "outputs": [
    {
     "name": "stdout",
     "output_type": "stream",
     "text": [
      "Data dimensions:  (1275902, 75)\n"
     ]
    }
   ],
   "source": [
    "print(\"Data dimensions: \", data.shape)"
   ]
  },
  {
   "cell_type": "code",
   "execution_count": 31,
   "metadata": {},
   "outputs": [
    {
     "data": {
      "text/plain": [
       "Index(['ReqNodes', 'ReqCPUS', 'Priority', 'SubmitYear2020', 'SubmitYear2021',\n",
       "       'SubmitYear2022', 'SubmitYear2023', 'SubmitYear2024',\n",
       "       'SubmitMonthJanuary', 'SubmitMonthFebruary', 'SubmitMonthMarch',\n",
       "       'SubmitMonthApril', 'SubmitMonthMay', 'SubmitMonthJune',\n",
       "       'SubmitMonthJuly', 'SubmitMonthAugust', 'SubmitMonthSeptember',\n",
       "       'SubmitMonthOctober', 'SubmitMonthNovember', 'SubmitMonthDecember',\n",
       "       'SubmitDayofWeekMonday', 'SubmitDayofWeekTuesday',\n",
       "       'SubmitDayofWeekWednesday', 'SubmitDayofWeekThursday',\n",
       "       'SubmitDayofWeekFriday', 'SubmitDayofWeekSaturday',\n",
       "       'SubmitDayofWeekSunday', 'StartYear2020', 'StartYear2021',\n",
       "       'StartYear2022', 'StartYear2023', 'StartYear2024', 'StartMonthJanuary',\n",
       "       'StartMonthFebruary', 'StartMonthMarch', 'StartMonthApril',\n",
       "       'StartMonthMay', 'StartMonthJune', 'StartMonthJuly', 'StartMonthAugust',\n",
       "       'StartMonthSeptember', 'StartMonthOctober', 'StartMonthNovember',\n",
       "       'StartMonthDecember', 'StartDayofWeekMonday', 'StartDayofWeekTuesday',\n",
       "       'StartDayofWeekWednesday', 'StartDayofWeekThursday',\n",
       "       'StartDayofWeekFriday', 'StartDayofWeekSaturday',\n",
       "       'StartDayofWeekSunday', 'TimelimitTsec', 'ElapsedTsec', 'WaittingTsec',\n",
       "       'Areaastrophys', 'Areaphys', 'Areamech', 'Areaenerg', 'Areamach',\n",
       "       'Arearadiophys', 'Areabiophys', 'Areageophys', 'Areabioinf', 'Areait',\n",
       "       'Partitiontornado', 'Partitiontornado-k40', 'Partitiong2',\n",
       "       'Partitioncascade', 'Partitionnv', 'StateCANCELLED', 'StateTIMEOUT',\n",
       "       'StateCOMPLETED', 'StateFAILED', 'StateNODE_FAIL',\n",
       "       'StateOUT_OF_MEMORY'],\n",
       "      dtype='object')"
      ]
     },
     "execution_count": 31,
     "metadata": {},
     "output_type": "execute_result"
    }
   ],
   "source": [
    "# check columns metadata \n",
    "data.columns"
   ]
  },
  {
   "cell_type": "code",
   "execution_count": null,
   "metadata": {},
   "outputs": [],
   "source": []
  },
  {
   "cell_type": "markdown",
   "metadata": {},
   "source": [
    "### Step 2: Statistical Analysis"
   ]
  },
  {
   "cell_type": "markdown",
   "metadata": {},
   "source": [
    "Numerical Features -> Timelimit_tsec and Elapsed_tsec"
   ]
  },
  {
   "cell_type": "code",
   "execution_count": 215,
   "metadata": {},
   "outputs": [],
   "source": [
    "import seaborn as sns"
   ]
  },
  {
   "cell_type": "code",
   "execution_count": 216,
   "metadata": {},
   "outputs": [],
   "source": [
    "def plot_time_distribution(data, feature_name):    \n",
    "    sns.histplot(data[feature_name], color = \"gray\")\n",
    "    plt.xlabel(\"Time (in seconds)\")\n",
    "    plt.ylabel(\"Frequencies\")\n",
    "    plt.title(\"Histogram distribution for \" + feature_name)    \n",
    "    plt.show()"
   ]
  },
  {
   "cell_type": "code",
   "execution_count": 218,
   "metadata": {},
   "outputs": [
    {
     "data": {
      "image/png": "[encoded data removed]",
      "text/plain": [
       "<Figure size 640x480 with 1 Axes>"
      ]
     },
     "metadata": {},
     "output_type": "display_data"
    }
   ],
   "source": [
    "plot_time_distribution(data, \"TimelimitTsec\")"
   ]
  },
  {
   "cell_type": "code",
   "execution_count": 219,
   "metadata": {},
   "outputs": [
    {
     "data": {
      "image/png": "[encoded data removed]",
      "text/plain": [
       "<Figure size 640x480 with 1 Axes>"
      ]
     },
     "metadata": {},
     "output_type": "display_data"
    }
   ],
   "source": [
    "plot_time_distribution(data, \"ElapsedTsec\")"
   ]
  },
  {
   "cell_type": "code",
   "execution_count": 220,
   "metadata": {},
   "outputs": [],
   "source": [
    "def plot_time_boxplot(data):\n",
    "    fig, axs = plt.subplots(1, 2, figsize = (10, 6))\n",
    "    sns.boxplot(data[\"TimelimitTsec\"], ax = axs[0])\n",
    "    axs[0].set_title(\"Box Plot for Time Limit\")\n",
    "    sns.boxplot(data[\"ElapsedTsec\"], ax = axs[1])\n",
    "    axs[1].set_title(\"Box plot for Time Elapsed\")\n",
    "    plt.tight_layout()\n",
    "    plt.show()"
   ]
  },
  {
   "cell_type": "code",
   "execution_count": 221,
   "metadata": {},
   "outputs": [
    {
     "data": {
      "text/html": [
       "<div>\n",
       "<style scoped>\n",
       "    .dataframe tbody tr th:only-of-type {\n",
       "        vertical-align: middle;\n",
       "    }\n",
       "\n",
       "    .dataframe tbody tr th {\n",
       "        vertical-align: top;\n",
       "    }\n",
       "\n",
       "    .dataframe thead th {\n",
       "        text-align: right;\n",
       "    }\n",
       "</style>\n",
       "<table border=\"1\" class=\"dataframe\">\n",
       "  <thead>\n",
       "    <tr style=\"text-align: right;\">\n",
       "      <th></th>\n",
       "      <th>TimelimitTsec</th>\n",
       "      <th>ElapsedTsec</th>\n",
       "    </tr>\n",
       "  </thead>\n",
       "  <tbody>\n",
       "    <tr>\n",
       "      <th>count</th>\n",
       "      <td>1.275902e+06</td>\n",
       "      <td>1.275902e+06</td>\n",
       "    </tr>\n",
       "    <tr>\n",
       "      <th>mean</th>\n",
       "      <td>2.137279e+05</td>\n",
       "      <td>8.527928e+03</td>\n",
       "    </tr>\n",
       "    <tr>\n",
       "      <th>std</th>\n",
       "      <td>2.297573e+05</td>\n",
       "      <td>5.210806e+04</td>\n",
       "    </tr>\n",
       "    <tr>\n",
       "      <th>min</th>\n",
       "      <td>6.000000e+01</td>\n",
       "      <td>1.000000e+00</td>\n",
       "    </tr>\n",
       "    <tr>\n",
       "      <th>25%</th>\n",
       "      <td>1.728000e+05</td>\n",
       "      <td>1.180000e+02</td>\n",
       "    </tr>\n",
       "    <tr>\n",
       "      <th>50%</th>\n",
       "      <td>1.728000e+05</td>\n",
       "      <td>4.130000e+02</td>\n",
       "    </tr>\n",
       "    <tr>\n",
       "      <th>75%</th>\n",
       "      <td>1.728000e+05</td>\n",
       "      <td>2.008000e+03</td>\n",
       "    </tr>\n",
       "    <tr>\n",
       "      <th>max</th>\n",
       "      <td>1.209600e+06</td>\n",
       "      <td>1.209638e+06</td>\n",
       "    </tr>\n",
       "  </tbody>\n",
       "</table>\n",
       "</div>"
      ],
      "text/plain": [
       "       TimelimitTsec   ElapsedTsec\n",
       "count   1.275902e+06  1.275902e+06\n",
       "mean    2.137279e+05  8.527928e+03\n",
       "std     2.297573e+05  5.210806e+04\n",
       "min     6.000000e+01  1.000000e+00\n",
       "25%     1.728000e+05  1.180000e+02\n",
       "50%     1.728000e+05  4.130000e+02\n",
       "75%     1.728000e+05  2.008000e+03\n",
       "max     1.209600e+06  1.209638e+06"
      ]
     },
     "execution_count": 221,
     "metadata": {},
     "output_type": "execute_result"
    }
   ],
   "source": [
    "# information about quartiles\n",
    "data[[\"TimelimitTsec\", \"ElapsedTsec\"]].describe()"
   ]
  },
  {
   "cell_type": "code",
   "execution_count": 222,
   "metadata": {},
   "outputs": [
    {
     "data": {
      "image/png": "[encoded data removed]",
      "text/plain": [
       "<Figure size 1000x600 with 2 Axes>"
      ]
     },
     "metadata": {},
     "output_type": "display_data"
    }
   ],
   "source": [
    "plot_time_boxplot(data)"
   ]
  },
  {
   "cell_type": "code",
   "execution_count": 223,
   "metadata": {},
   "outputs": [],
   "source": [
    "def count_categories(data, feature_name):\n",
    "    categ_instances = [categ for categ in data.columns if categ.startswith(feature_name)]\n",
    "    categ_counts = data[categ_instances].sum()\n",
    "\n",
    "    return categ_counts"
   ]
  },
  {
   "cell_type": "code",
   "execution_count": 224,
   "metadata": {},
   "outputs": [],
   "source": [
    "def plot_count_categories(feature_name, results):\n",
    "    sns.barplot(x = results.values.tolist(), y = results.index.tolist(), orient = \"y\")\n",
    "    plt.title(\"Statistical analysis by \" + feature_name)\n",
    "    plt.show()"
   ]
  },
  {
   "cell_type": "markdown",
   "metadata": {},
   "source": [
    "Categorical Features -> Area"
   ]
  },
  {
   "cell_type": "code",
   "execution_count": 225,
   "metadata": {},
   "outputs": [
    {
     "name": "stdout",
     "output_type": "stream",
     "text": [
      "Areaastrophys      2338.0\n",
      "Areaphys          54034.0\n",
      "Areamech          10800.0\n",
      "Areaenerg          8985.0\n",
      "Areamach          34500.0\n",
      "Arearadiophys     81953.0\n",
      "Areabiophys       21923.0\n",
      "Areageophys      999420.0\n",
      "Areabioinf        41840.0\n",
      "Areait            20109.0\n",
      "dtype: float64\n"
     ]
    }
   ],
   "source": [
    "count_areas = count_categories(data, \"Area\")\n",
    "print(count_areas)"
   ]
  },
  {
   "cell_type": "code",
   "execution_count": 226,
   "metadata": {},
   "outputs": [
    {
     "data": {
      "image/png": "[encoded data removed]",
      "text/plain": [
       "<Figure size 640x480 with 1 Axes>"
      ]
     },
     "metadata": {},
     "output_type": "display_data"
    }
   ],
   "source": [
    "plot_count_categories(\"Area\", count_areas)"
   ]
  },
  {
   "cell_type": "markdown",
   "metadata": {},
   "source": [
    "Outliers detection using Z-score method"
   ]
  },
  {
   "cell_type": "code",
   "execution_count": 32,
   "metadata": {},
   "outputs": [],
   "source": [
    "from scipy import stats\n",
    "\n",
    "def outliers_detection(data, feature):\n",
    "    z_score = stats.zscore(data[feature])\n",
    "    z_threshold = 3\n",
    "    outliers = data[z_score.abs() > z_threshold]\n",
    "    \n",
    "    return outliers"
   ]
  },
  {
   "cell_type": "code",
   "execution_count": 33,
   "metadata": {},
   "outputs": [],
   "source": [
    "lst_outliers = outliers_detection(data, \"ElapsedTsec\")"
   ]
  },
  {
   "cell_type": "code",
   "execution_count": 37,
   "metadata": {},
   "outputs": [
    {
     "data": {
      "text/html": [
       "<div>\n",
       "<style scoped>\n",
       "    .dataframe tbody tr th:only-of-type {\n",
       "        vertical-align: middle;\n",
       "    }\n",
       "\n",
       "    .dataframe tbody tr th {\n",
       "        vertical-align: top;\n",
       "    }\n",
       "\n",
       "    .dataframe thead th {\n",
       "        text-align: right;\n",
       "    }\n",
       "</style>\n",
       "<table border=\"1\" class=\"dataframe\">\n",
       "  <thead>\n",
       "    <tr style=\"text-align: right;\">\n",
       "      <th></th>\n",
       "      <th>ReqNodes</th>\n",
       "      <th>ReqCPUS</th>\n",
       "      <th>Priority</th>\n",
       "      <th>SubmitYear2020</th>\n",
       "      <th>SubmitYear2021</th>\n",
       "      <th>SubmitYear2022</th>\n",
       "      <th>SubmitYear2023</th>\n",
       "      <th>SubmitYear2024</th>\n",
       "      <th>SubmitMonthJanuary</th>\n",
       "      <th>SubmitMonthFebruary</th>\n",
       "      <th>...</th>\n",
       "      <th>Partitiontornado-k40</th>\n",
       "      <th>Partitiong2</th>\n",
       "      <th>Partitioncascade</th>\n",
       "      <th>Partitionnv</th>\n",
       "      <th>StateCANCELLED</th>\n",
       "      <th>StateTIMEOUT</th>\n",
       "      <th>StateCOMPLETED</th>\n",
       "      <th>StateFAILED</th>\n",
       "      <th>StateNODE_FAIL</th>\n",
       "      <th>StateOUT_OF_MEMORY</th>\n",
       "    </tr>\n",
       "  </thead>\n",
       "  <tbody>\n",
       "    <tr>\n",
       "      <th>1145682</th>\n",
       "      <td>2</td>\n",
       "      <td>48</td>\n",
       "      <td>194</td>\n",
       "      <td>0.0</td>\n",
       "      <td>0.0</td>\n",
       "      <td>0.0</td>\n",
       "      <td>1.0</td>\n",
       "      <td>0.0</td>\n",
       "      <td>0.0</td>\n",
       "      <td>0.0</td>\n",
       "      <td>...</td>\n",
       "      <td>1.0</td>\n",
       "      <td>0.0</td>\n",
       "      <td>0.0</td>\n",
       "      <td>0.0</td>\n",
       "      <td>0.0</td>\n",
       "      <td>0.0</td>\n",
       "      <td>0.0</td>\n",
       "      <td>1.0</td>\n",
       "      <td>0.0</td>\n",
       "      <td>0.0</td>\n",
       "    </tr>\n",
       "    <tr>\n",
       "      <th>1232288</th>\n",
       "      <td>1</td>\n",
       "      <td>16</td>\n",
       "      <td>2670</td>\n",
       "      <td>0.0</td>\n",
       "      <td>0.0</td>\n",
       "      <td>0.0</td>\n",
       "      <td>1.0</td>\n",
       "      <td>0.0</td>\n",
       "      <td>0.0</td>\n",
       "      <td>0.0</td>\n",
       "      <td>...</td>\n",
       "      <td>0.0</td>\n",
       "      <td>0.0</td>\n",
       "      <td>0.0</td>\n",
       "      <td>0.0</td>\n",
       "      <td>0.0</td>\n",
       "      <td>0.0</td>\n",
       "      <td>1.0</td>\n",
       "      <td>0.0</td>\n",
       "      <td>0.0</td>\n",
       "      <td>0.0</td>\n",
       "    </tr>\n",
       "    <tr>\n",
       "      <th>1232290</th>\n",
       "      <td>1</td>\n",
       "      <td>16</td>\n",
       "      <td>2670</td>\n",
       "      <td>0.0</td>\n",
       "      <td>0.0</td>\n",
       "      <td>0.0</td>\n",
       "      <td>1.0</td>\n",
       "      <td>0.0</td>\n",
       "      <td>0.0</td>\n",
       "      <td>0.0</td>\n",
       "      <td>...</td>\n",
       "      <td>0.0</td>\n",
       "      <td>0.0</td>\n",
       "      <td>0.0</td>\n",
       "      <td>0.0</td>\n",
       "      <td>0.0</td>\n",
       "      <td>0.0</td>\n",
       "      <td>1.0</td>\n",
       "      <td>0.0</td>\n",
       "      <td>0.0</td>\n",
       "      <td>0.0</td>\n",
       "    </tr>\n",
       "    <tr>\n",
       "      <th>1232294</th>\n",
       "      <td>1</td>\n",
       "      <td>16</td>\n",
       "      <td>2670</td>\n",
       "      <td>0.0</td>\n",
       "      <td>0.0</td>\n",
       "      <td>0.0</td>\n",
       "      <td>1.0</td>\n",
       "      <td>0.0</td>\n",
       "      <td>0.0</td>\n",
       "      <td>0.0</td>\n",
       "      <td>...</td>\n",
       "      <td>0.0</td>\n",
       "      <td>0.0</td>\n",
       "      <td>0.0</td>\n",
       "      <td>0.0</td>\n",
       "      <td>0.0</td>\n",
       "      <td>0.0</td>\n",
       "      <td>1.0</td>\n",
       "      <td>0.0</td>\n",
       "      <td>0.0</td>\n",
       "      <td>0.0</td>\n",
       "    </tr>\n",
       "    <tr>\n",
       "      <th>1232289</th>\n",
       "      <td>1</td>\n",
       "      <td>16</td>\n",
       "      <td>2670</td>\n",
       "      <td>0.0</td>\n",
       "      <td>0.0</td>\n",
       "      <td>0.0</td>\n",
       "      <td>1.0</td>\n",
       "      <td>0.0</td>\n",
       "      <td>0.0</td>\n",
       "      <td>0.0</td>\n",
       "      <td>...</td>\n",
       "      <td>0.0</td>\n",
       "      <td>0.0</td>\n",
       "      <td>0.0</td>\n",
       "      <td>0.0</td>\n",
       "      <td>0.0</td>\n",
       "      <td>0.0</td>\n",
       "      <td>1.0</td>\n",
       "      <td>0.0</td>\n",
       "      <td>0.0</td>\n",
       "      <td>0.0</td>\n",
       "    </tr>\n",
       "    <tr>\n",
       "      <th>...</th>\n",
       "      <td>...</td>\n",
       "      <td>...</td>\n",
       "      <td>...</td>\n",
       "      <td>...</td>\n",
       "      <td>...</td>\n",
       "      <td>...</td>\n",
       "      <td>...</td>\n",
       "      <td>...</td>\n",
       "      <td>...</td>\n",
       "      <td>...</td>\n",
       "      <td>...</td>\n",
       "      <td>...</td>\n",
       "      <td>...</td>\n",
       "      <td>...</td>\n",
       "      <td>...</td>\n",
       "      <td>...</td>\n",
       "      <td>...</td>\n",
       "      <td>...</td>\n",
       "      <td>...</td>\n",
       "      <td>...</td>\n",
       "      <td>...</td>\n",
       "    </tr>\n",
       "    <tr>\n",
       "      <th>1241301</th>\n",
       "      <td>2</td>\n",
       "      <td>112</td>\n",
       "      <td>371</td>\n",
       "      <td>0.0</td>\n",
       "      <td>0.0</td>\n",
       "      <td>0.0</td>\n",
       "      <td>1.0</td>\n",
       "      <td>0.0</td>\n",
       "      <td>0.0</td>\n",
       "      <td>0.0</td>\n",
       "      <td>...</td>\n",
       "      <td>0.0</td>\n",
       "      <td>0.0</td>\n",
       "      <td>0.0</td>\n",
       "      <td>0.0</td>\n",
       "      <td>0.0</td>\n",
       "      <td>1.0</td>\n",
       "      <td>0.0</td>\n",
       "      <td>0.0</td>\n",
       "      <td>0.0</td>\n",
       "      <td>0.0</td>\n",
       "    </tr>\n",
       "    <tr>\n",
       "      <th>349450</th>\n",
       "      <td>1</td>\n",
       "      <td>1</td>\n",
       "      <td>539</td>\n",
       "      <td>0.0</td>\n",
       "      <td>0.0</td>\n",
       "      <td>1.0</td>\n",
       "      <td>0.0</td>\n",
       "      <td>0.0</td>\n",
       "      <td>0.0</td>\n",
       "      <td>0.0</td>\n",
       "      <td>...</td>\n",
       "      <td>0.0</td>\n",
       "      <td>0.0</td>\n",
       "      <td>0.0</td>\n",
       "      <td>0.0</td>\n",
       "      <td>0.0</td>\n",
       "      <td>1.0</td>\n",
       "      <td>0.0</td>\n",
       "      <td>0.0</td>\n",
       "      <td>0.0</td>\n",
       "      <td>0.0</td>\n",
       "    </tr>\n",
       "    <tr>\n",
       "      <th>546899</th>\n",
       "      <td>7</td>\n",
       "      <td>196</td>\n",
       "      <td>43</td>\n",
       "      <td>0.0</td>\n",
       "      <td>0.0</td>\n",
       "      <td>1.0</td>\n",
       "      <td>0.0</td>\n",
       "      <td>0.0</td>\n",
       "      <td>0.0</td>\n",
       "      <td>0.0</td>\n",
       "      <td>...</td>\n",
       "      <td>0.0</td>\n",
       "      <td>0.0</td>\n",
       "      <td>0.0</td>\n",
       "      <td>0.0</td>\n",
       "      <td>0.0</td>\n",
       "      <td>1.0</td>\n",
       "      <td>0.0</td>\n",
       "      <td>0.0</td>\n",
       "      <td>0.0</td>\n",
       "      <td>0.0</td>\n",
       "    </tr>\n",
       "    <tr>\n",
       "      <th>160131</th>\n",
       "      <td>1</td>\n",
       "      <td>1</td>\n",
       "      <td>438</td>\n",
       "      <td>0.0</td>\n",
       "      <td>0.0</td>\n",
       "      <td>1.0</td>\n",
       "      <td>0.0</td>\n",
       "      <td>0.0</td>\n",
       "      <td>1.0</td>\n",
       "      <td>0.0</td>\n",
       "      <td>...</td>\n",
       "      <td>0.0</td>\n",
       "      <td>0.0</td>\n",
       "      <td>0.0</td>\n",
       "      <td>0.0</td>\n",
       "      <td>0.0</td>\n",
       "      <td>1.0</td>\n",
       "      <td>0.0</td>\n",
       "      <td>0.0</td>\n",
       "      <td>0.0</td>\n",
       "      <td>0.0</td>\n",
       "    </tr>\n",
       "    <tr>\n",
       "      <th>1</th>\n",
       "      <td>2</td>\n",
       "      <td>56</td>\n",
       "      <td>1</td>\n",
       "      <td>0.0</td>\n",
       "      <td>1.0</td>\n",
       "      <td>0.0</td>\n",
       "      <td>0.0</td>\n",
       "      <td>0.0</td>\n",
       "      <td>0.0</td>\n",
       "      <td>0.0</td>\n",
       "      <td>...</td>\n",
       "      <td>0.0</td>\n",
       "      <td>0.0</td>\n",
       "      <td>0.0</td>\n",
       "      <td>0.0</td>\n",
       "      <td>0.0</td>\n",
       "      <td>1.0</td>\n",
       "      <td>0.0</td>\n",
       "      <td>0.0</td>\n",
       "      <td>0.0</td>\n",
       "      <td>0.0</td>\n",
       "    </tr>\n",
       "  </tbody>\n",
       "</table>\n",
       "<p>12963 rows × 75 columns</p>\n",
       "</div>"
      ],
      "text/plain": [
       "         ReqNodes  ReqCPUS  Priority  SubmitYear2020  SubmitYear2021  \\\n",
       "1145682         2       48       194             0.0             0.0   \n",
       "1232288         1       16      2670             0.0             0.0   \n",
       "1232290         1       16      2670             0.0             0.0   \n",
       "1232294         1       16      2670             0.0             0.0   \n",
       "1232289         1       16      2670             0.0             0.0   \n",
       "...           ...      ...       ...             ...             ...   \n",
       "1241301         2      112       371             0.0             0.0   \n",
       "349450          1        1       539             0.0             0.0   \n",
       "546899          7      196        43             0.0             0.0   \n",
       "160131          1        1       438             0.0             0.0   \n",
       "1               2       56         1             0.0             1.0   \n",
       "\n",
       "         SubmitYear2022  SubmitYear2023  SubmitYear2024  SubmitMonthJanuary  \\\n",
       "1145682             0.0             1.0             0.0                 0.0   \n",
       "1232288             0.0             1.0             0.0                 0.0   \n",
       "1232290             0.0             1.0             0.0                 0.0   \n",
       "1232294             0.0             1.0             0.0                 0.0   \n",
       "1232289             0.0             1.0             0.0                 0.0   \n",
       "...                 ...             ...             ...                 ...   \n",
       "1241301             0.0             1.0             0.0                 0.0   \n",
       "349450              1.0             0.0             0.0                 0.0   \n",
       "546899              1.0             0.0             0.0                 0.0   \n",
       "160131              1.0             0.0             0.0                 1.0   \n",
       "1                   0.0             0.0             0.0                 0.0   \n",
       "\n",
       "         SubmitMonthFebruary  ...  Partitiontornado-k40  Partitiong2  \\\n",
       "1145682                  0.0  ...                   1.0          0.0   \n",
       "1232288                  0.0  ...                   0.0          0.0   \n",
       "1232290                  0.0  ...                   0.0          0.0   \n",
       "1232294                  0.0  ...                   0.0          0.0   \n",
       "1232289                  0.0  ...                   0.0          0.0   \n",
       "...                      ...  ...                   ...          ...   \n",
       "1241301                  0.0  ...                   0.0          0.0   \n",
       "349450                   0.0  ...                   0.0          0.0   \n",
       "546899                   0.0  ...                   0.0          0.0   \n",
       "160131                   0.0  ...                   0.0          0.0   \n",
       "1                        0.0  ...                   0.0          0.0   \n",
       "\n",
       "         Partitioncascade  Partitionnv  StateCANCELLED  StateTIMEOUT  \\\n",
       "1145682               0.0          0.0             0.0           0.0   \n",
       "1232288               0.0          0.0             0.0           0.0   \n",
       "1232290               0.0          0.0             0.0           0.0   \n",
       "1232294               0.0          0.0             0.0           0.0   \n",
       "1232289               0.0          0.0             0.0           0.0   \n",
       "...                   ...          ...             ...           ...   \n",
       "1241301               0.0          0.0             0.0           1.0   \n",
       "349450                0.0          0.0             0.0           1.0   \n",
       "546899                0.0          0.0             0.0           1.0   \n",
       "160131                0.0          0.0             0.0           1.0   \n",
       "1                     0.0          0.0             0.0           1.0   \n",
       "\n",
       "         StateCOMPLETED  StateFAILED  StateNODE_FAIL  StateOUT_OF_MEMORY  \n",
       "1145682             0.0          1.0             0.0                 0.0  \n",
       "1232288             1.0          0.0             0.0                 0.0  \n",
       "1232290             1.0          0.0             0.0                 0.0  \n",
       "1232294             1.0          0.0             0.0                 0.0  \n",
       "1232289             1.0          0.0             0.0                 0.0  \n",
       "...                 ...          ...             ...                 ...  \n",
       "1241301             0.0          0.0             0.0                 0.0  \n",
       "349450              0.0          0.0             0.0                 0.0  \n",
       "546899              0.0          0.0             0.0                 0.0  \n",
       "160131              0.0          0.0             0.0                 0.0  \n",
       "1                   0.0          0.0             0.0                 0.0  \n",
       "\n",
       "[12963 rows x 75 columns]"
      ]
     },
     "execution_count": 37,
     "metadata": {},
     "output_type": "execute_result"
    }
   ],
   "source": [
    "lst_outliers.sort_values(by = \"ElapsedTsec\")"
   ]
  },
  {
   "cell_type": "code",
   "execution_count": 38,
   "metadata": {},
   "outputs": [
    {
     "name": "stdout",
     "output_type": "stream",
     "text": [
      "#samples outlier to distribution = 12963\n",
      "%outliers = 1.02 %\n"
     ]
    }
   ],
   "source": [
    "print(f\"#samples outlier to distribution = {len(lst_outliers)}\")\n",
    "print(f\"%outliers = {round(100* len(lst_outliers)/len(data), 2)} %\")"
   ]
  },
  {
   "cell_type": "markdown",
   "metadata": {},
   "source": [
    "Split data"
   ]
  },
  {
   "cell_type": "code",
   "execution_count": 39,
   "metadata": {},
   "outputs": [],
   "source": [
    "# split independent (X) and dependent variable (Y)\n",
    "x = data.drop(columns = [\"ElapsedTsec\"])\n",
    "y = data[\"ElapsedTsec\"]"
   ]
  },
  {
   "cell_type": "code",
   "execution_count": 40,
   "metadata": {},
   "outputs": [],
   "source": [
    "# split train and test data\n",
    "from sklearn.model_selection import train_test_split\n",
    "x_train, x_test, y_train, y_test = train_test_split(x, y, test_size = 0.2, random_state = 0)"
   ]
  },
  {
   "cell_type": "code",
   "execution_count": 41,
   "metadata": {},
   "outputs": [
    {
     "name": "stdout",
     "output_type": "stream",
     "text": [
      "#train samples =  1020721\n",
      "#test samples =  255181\n"
     ]
    }
   ],
   "source": [
    "# check number of samples\n",
    "print(\"#train samples = \", len(x_train))\n",
    "print(\"#test samples = \", len(x_test))"
   ]
  },
  {
   "cell_type": "markdown",
   "metadata": {},
   "source": [
    "Functions to save and load models"
   ]
  },
  {
   "cell_type": "code",
   "execution_count": 42,
   "metadata": {},
   "outputs": [],
   "source": [
    "import pickle\n",
    "\n",
    "# function to save model\n",
    "def save_model(filename, model):\n",
    "    with open(filename, \"wb\") as file:\n",
    "        pickle.dump(model, file)"
   ]
  },
  {
   "cell_type": "code",
   "execution_count": 43,
   "metadata": {},
   "outputs": [],
   "source": [
    "# function to load model\n",
    "def load_model(filename):\n",
    "    with open(filename, \"rb\") as file:\n",
    "        return pickle.load(file)"
   ]
  },
  {
   "cell_type": "markdown",
   "metadata": {},
   "source": [
    "### Training models  \n",
    "Benchmark for models:  \n",
    "- XGBoost Regressor  \n",
    "- LightGBM\n",
    "- AdaBoost"
   ]
  },
  {
   "cell_type": "markdown",
   "metadata": {},
   "source": [
    "#### XGBoost Regressor"
   ]
  },
  {
   "cell_type": "markdown",
   "metadata": {},
   "source": [
    "Training with XGBoost Regressor + Hyperparameter Tuning"
   ]
  },
  {
   "cell_type": "code",
   "execution_count": 44,
   "metadata": {},
   "outputs": [],
   "source": [
    "from sklearn.model_selection import GridSearchCV"
   ]
  },
  {
   "cell_type": "code",
   "execution_count": 45,
   "metadata": {},
   "outputs": [],
   "source": [
    "import xgboost as xgb\n",
    "\n",
    "xgb_params = {          \n",
    "    \"max_depth\": [16, 32, 48, 64],\n",
    "    \"learning_rate\": [0.01, 0.025, 0.05, 0.075, 0.1],\n",
    "    \"subsample\": [0.7, 0.8],\n",
    "    \"colsample_bytree\": [0.8, 0.9],     \n",
    "    \"tree_method\": [\"hist\"],\n",
    "    \"objective\": [\"reg:squarederror\"]\n",
    "}"
   ]
  },
  {
   "cell_type": "code",
   "execution_count": 46,
   "metadata": {},
   "outputs": [],
   "source": [
    "# function for training\n",
    "def XGBModel(x_train, y_train, params):\n",
    "    # define the model    \n",
    "    model = xgb.XGBRegressor()\n",
    "    \n",
    "    # hyperparameter optimization\n",
    "    grid_search = GridSearchCV(estimator = model,\n",
    "                               param_grid = params,\n",
    "                               scoring = \"neg_mean_squared_error\",\n",
    "                               cv = 10,\n",
    "                               n_jobs = -1\n",
    "                            )\n",
    "    grid_search.fit(x_train, y_train)\n",
    "    \n",
    "    # get best model\n",
    "    best_model = grid_search.best_estimator_\n",
    "    print(grid_search.best_params_)\n",
    "    \n",
    "    return best_model"
   ]
  },
  {
   "cell_type": "code",
   "execution_count": 47,
   "metadata": {},
   "outputs": [],
   "source": [
    "start_ttrain = time.time()"
   ]
  },
  {
   "cell_type": "code",
   "execution_count": 48,
   "metadata": {},
   "outputs": [
    {
     "name": "stderr",
     "output_type": "stream",
     "text": [
      "A worker stopped while some jobs were given to the executor. This can be caused by a too short worker timeout or by a memory leak.\n"
     ]
    },
    {
     "name": "stdout",
     "output_type": "stream",
     "text": [
      "{'colsample_bytree': 0.8, 'learning_rate': 0.05, 'max_depth': 16, 'objective': 'reg:squarederror', 'subsample': 0.7, 'tree_method': 'hist'}\n"
     ]
    }
   ],
   "source": [
    "xgb_model = XGBModel(x_train, y_train, xgb_params)"
   ]
  },
  {
   "cell_type": "code",
   "execution_count": 49,
   "metadata": {},
   "outputs": [
    {
     "name": "stdout",
     "output_type": "stream",
     "text": [
      "Time of training: 3283.6048588752747 seconds\n"
     ]
    }
   ],
   "source": [
    "end_ttrain = time.time()\n",
    "print(f\"Time of training: {end_ttrain - start_ttrain} seconds\")"
   ]
  },
  {
   "cell_type": "code",
   "execution_count": 50,
   "metadata": {},
   "outputs": [
    {
     "data": {
      "text/html": [
       "<style>#sk-container-id-1 {color: black;}#sk-container-id-1 pre{padding: 0;}#sk-container-id-1 div.sk-toggleable {background-color: white;}#sk-container-id-1 label.sk-toggleable__label {cursor: pointer;display: block;width: 100%;margin-bottom: 0;padding: 0.3em;box-sizing: border-box;text-align: center;}#sk-container-id-1 label.sk-toggleable__label-arrow:before {content: \"▸\";float: left;margin-right: 0.25em;color: #696969;}#sk-container-id-1 label.sk-toggleable__label-arrow:hover:before {color: black;}#sk-container-id-1 div.sk-estimator:hover label.sk-toggleable__label-arrow:before {color: black;}#sk-container-id-1 div.sk-toggleable__content {max-height: 0;max-width: 0;overflow: hidden;text-align: left;background-color: #f0f8ff;}#sk-container-id-1 div.sk-toggleable__content pre {margin: 0.2em;color: black;border-radius: 0.25em;background-color: #f0f8ff;}#sk-container-id-1 input.sk-toggleable__control:checked~div.sk-toggleable__content {max-height: 200px;max-width: 100%;overflow: auto;}#sk-container-id-1 input.sk-toggleable__control:checked~label.sk-toggleable__label-arrow:before {content: \"▾\";}#sk-container-id-1 div.sk-estimator input.sk-toggleable__control:checked~label.sk-toggleable__label {background-color: #d4ebff;}#sk-container-id-1 div.sk-label input.sk-toggleable__control:checked~label.sk-toggleable__label {background-color: #d4ebff;}#sk-container-id-1 input.sk-hidden--visually {border: 0;clip: rect(1px 1px 1px 1px);clip: rect(1px, 1px, 1px, 1px);height: 1px;margin: -1px;overflow: hidden;padding: 0;position: absolute;width: 1px;}#sk-container-id-1 div.sk-estimator {font-family: monospace;background-color: #f0f8ff;border: 1px dotted black;border-radius: 0.25em;box-sizing: border-box;margin-bottom: 0.5em;}#sk-container-id-1 div.sk-estimator:hover {background-color: #d4ebff;}#sk-container-id-1 div.sk-parallel-item::after {content: \"\";width: 100%;border-bottom: 1px solid gray;flex-grow: 1;}#sk-container-id-1 div.sk-label:hover label.sk-toggleable__label {background-color: #d4ebff;}#sk-container-id-1 div.sk-serial::before {content: \"\";position: absolute;border-left: 1px solid gray;box-sizing: border-box;top: 0;bottom: 0;left: 50%;z-index: 0;}#sk-container-id-1 div.sk-serial {display: flex;flex-direction: column;align-items: center;background-color: white;padding-right: 0.2em;padding-left: 0.2em;position: relative;}#sk-container-id-1 div.sk-item {position: relative;z-index: 1;}#sk-container-id-1 div.sk-parallel {display: flex;align-items: stretch;justify-content: center;background-color: white;position: relative;}#sk-container-id-1 div.sk-item::before, #sk-container-id-1 div.sk-parallel-item::before {content: \"\";position: absolute;border-left: 1px solid gray;box-sizing: border-box;top: 0;bottom: 0;left: 50%;z-index: -1;}#sk-container-id-1 div.sk-parallel-item {display: flex;flex-direction: column;z-index: 1;position: relative;background-color: white;}#sk-container-id-1 div.sk-parallel-item:first-child::after {align-self: flex-end;width: 50%;}#sk-container-id-1 div.sk-parallel-item:last-child::after {align-self: flex-start;width: 50%;}#sk-container-id-1 div.sk-parallel-item:only-child::after {width: 0;}#sk-container-id-1 div.sk-dashed-wrapped {border: 1px dashed gray;margin: 0 0.4em 0.5em 0.4em;box-sizing: border-box;padding-bottom: 0.4em;background-color: white;}#sk-container-id-1 div.sk-label label {font-family: monospace;font-weight: bold;display: inline-block;line-height: 1.2em;}#sk-container-id-1 div.sk-label-container {text-align: center;}#sk-container-id-1 div.sk-container {/* jupyter's `normalize.less` sets `[hidden] { display: none; }` but bootstrap.min.css set `[hidden] { display: none !important; }` so we also need the `!important` here to be able to override the default hidden behavior on the sphinx rendered scikit-learn.org. See: https://github.com/scikit-learn/scikit-learn/issues/21755 */display: inline-block !important;position: relative;}#sk-container-id-1 div.sk-text-repr-fallback {display: none;}</style><div id=\"sk-container-id-1\" class=\"sk-top-container\"><div class=\"sk-text-repr-fallback\"><pre>XGBRegressor(base_score=None, booster=None, callbacks=None,\n",
       "             colsample_bylevel=None, colsample_bynode=None,\n",
       "             colsample_bytree=0.8, device=None, early_stopping_rounds=None,\n",
       "             enable_categorical=False, eval_metric=None, feature_types=None,\n",
       "             gamma=None, grow_policy=None, importance_type=None,\n",
       "             interaction_constraints=None, learning_rate=0.05, max_bin=None,\n",
       "             max_cat_threshold=None, max_cat_to_onehot=None,\n",
       "             max_delta_step=None, max_depth=16, max_leaves=None,\n",
       "             min_child_weight=None, missing=nan, monotone_constraints=None,\n",
       "             multi_strategy=None, n_estimators=None, n_jobs=None,\n",
       "             num_parallel_tree=None, random_state=None, ...)</pre><b>In a Jupyter environment, please rerun this cell to show the HTML representation or trust the notebook. <br />On GitHub, the HTML representation is unable to render, please try loading this page with nbviewer.org.</b></div><div class=\"sk-container\" hidden><div class=\"sk-item\"><div class=\"sk-estimator sk-toggleable\"><input class=\"sk-toggleable__control sk-hidden--visually\" id=\"sk-estimator-id-1\" type=\"checkbox\" checked><label for=\"sk-estimator-id-1\" class=\"sk-toggleable__label sk-toggleable__label-arrow\">XGBRegressor</label><div class=\"sk-toggleable__content\"><pre>XGBRegressor(base_score=None, booster=None, callbacks=None,\n",
       "             colsample_bylevel=None, colsample_bynode=None,\n",
       "             colsample_bytree=0.8, device=None, early_stopping_rounds=None,\n",
       "             enable_categorical=False, eval_metric=None, feature_types=None,\n",
       "             gamma=None, grow_policy=None, importance_type=None,\n",
       "             interaction_constraints=None, learning_rate=0.05, max_bin=None,\n",
       "             max_cat_threshold=None, max_cat_to_onehot=None,\n",
       "             max_delta_step=None, max_depth=16, max_leaves=None,\n",
       "             min_child_weight=None, missing=nan, monotone_constraints=None,\n",
       "             multi_strategy=None, n_estimators=None, n_jobs=None,\n",
       "             num_parallel_tree=None, random_state=None, ...)</pre></div></div></div></div></div>"
      ],
      "text/plain": [
       "XGBRegressor(base_score=None, booster=None, callbacks=None,\n",
       "             colsample_bylevel=None, colsample_bynode=None,\n",
       "             colsample_bytree=0.8, device=None, early_stopping_rounds=None,\n",
       "             enable_categorical=False, eval_metric=None, feature_types=None,\n",
       "             gamma=None, grow_policy=None, importance_type=None,\n",
       "             interaction_constraints=None, learning_rate=0.05, max_bin=None,\n",
       "             max_cat_threshold=None, max_cat_to_onehot=None,\n",
       "             max_delta_step=None, max_depth=16, max_leaves=None,\n",
       "             min_child_weight=None, missing=nan, monotone_constraints=None,\n",
       "             multi_strategy=None, n_estimators=None, n_jobs=None,\n",
       "             num_parallel_tree=None, random_state=None, ...)"
      ]
     },
     "execution_count": 50,
     "metadata": {},
     "output_type": "execute_result"
    }
   ],
   "source": [
    "xgb_model"
   ]
  },
  {
   "cell_type": "code",
   "execution_count": 51,
   "metadata": {},
   "outputs": [],
   "source": [
    "# save xgb model\n",
    "save_model(\"models/xgb_scc_perform_v10.pkl\", xgb_model)"
   ]
  },
  {
   "cell_type": "markdown",
   "metadata": {},
   "source": [
    "Inference with XGBoost Regressor"
   ]
  },
  {
   "cell_type": "code",
   "execution_count": 52,
   "metadata": {},
   "outputs": [],
   "source": [
    "# recover the model\n",
    "rec_xgb = load_model(\"models/xgb_scc_perform_v10.pkl\")"
   ]
  },
  {
   "cell_type": "code",
   "execution_count": 53,
   "metadata": {},
   "outputs": [],
   "source": [
    "# function to evaluate\n",
    "from sklearn.metrics import mean_squared_error, r2_score\n",
    "\n",
    "def eval_model_perform(model, x, y):    \n",
    "    y_pred = model.predict(x)\n",
    "    rmse_val = np.sqrt(mean_squared_error(y, y_pred))\n",
    "    r2_val = r2_score(y, y_pred)\n",
    "\n",
    "    return rmse_val, r2_val"
   ]
  },
  {
   "cell_type": "code",
   "execution_count": 54,
   "metadata": {},
   "outputs": [
    {
     "name": "stdout",
     "output_type": "stream",
     "text": [
      "R-MSE train score: 20553.332\n",
      "R^2 train score: 0.844\n"
     ]
    }
   ],
   "source": [
    "# metrics for train set\n",
    "rmse_xgb_train, r2_xgb_train = eval_model_perform(rec_xgb, x_train, y_train)\n",
    "print(f\"R-MSE train score: {rmse_xgb_train:.3f}\")\n",
    "print(f\"R^2 train score: {r2_xgb_train:.3f}\")"
   ]
  },
  {
   "cell_type": "code",
   "execution_count": 55,
   "metadata": {},
   "outputs": [
    {
     "name": "stdout",
     "output_type": "stream",
     "text": [
      "R-MSE train score: 25663.483\n",
      "R^2 train score: 0.758\n"
     ]
    }
   ],
   "source": [
    "# r2-score for test set\n",
    "rmse_xgb_test, r2_xgb_test = eval_model_perform(rec_xgb, x_test, y_test)\n",
    "print(f\"R-MSE train score: {rmse_xgb_test:.3f}\")\n",
    "print(f\"R^2 train score: {r2_xgb_test:.3f}\")"
   ]
  },
  {
   "cell_type": "markdown",
   "metadata": {},
   "source": [
    "*******"
   ]
  },
  {
   "cell_type": "code",
   "execution_count": null,
   "metadata": {},
   "outputs": [],
   "source": []
  },
  {
   "cell_type": "markdown",
   "metadata": {},
   "source": [
    "#### LightGBM Regressor"
   ]
  },
  {
   "cell_type": "markdown",
   "metadata": {},
   "source": [
    "Training with LightGBM Regressor + Hyperparameter Tuning"
   ]
  },
  {
   "cell_type": "code",
   "execution_count": 96,
   "metadata": {},
   "outputs": [
    {
     "name": "stdout",
     "output_type": "stream",
     "text": [
      "Name: lightgbm\n",
      "Version: 2.2.3\n",
      "Summary: LightGBM Python Package\n",
      "Home-page: https://github.com/Microsoft/LightGBM\n",
      "Author: \n",
      "Author-email: \n",
      "License: The MIT License (Microsoft)\n",
      "Location: /home/iknthsait/holtech/.local/lib/python3.10/site-packages\n",
      "Requires: numpy, scikit-learn, scipy\n",
      "Required-by: \n"
     ]
    }
   ],
   "source": [
    "!pip show lightgbm"
   ]
  },
  {
   "cell_type": "code",
   "execution_count": 56,
   "metadata": {},
   "outputs": [],
   "source": [
    "# import packages\n",
    "import lightgbm as lgbm\n",
    "\n",
    "# define grid hyperparameters\n",
    "lgbm_params = {    \n",
    "    \"num_leaves\": [1024, 2048, 3092, 4096],\n",
    "    \"max_depth\": [20, 30, 40, 50],\n",
    "    \"learning_rate\": [0.01, 0.05, 0.075, 0.1],\n",
    "    \"subsample\": [0.8, 0.9],\n",
    "    \"subsample_freq\": [10] # re-sample without replacement every 10 iterations\n",
    "                         # and extract bagging_fraction% of training data\n",
    "}"
   ]
  },
  {
   "cell_type": "code",
   "execution_count": 57,
   "metadata": {},
   "outputs": [],
   "source": [
    "# define the LightGBM regressor\n",
    "def LightGBModel(x_train, y_train, params):\n",
    "    lgbm_model = lgbm.LGBMRegressor()\n",
    "    \n",
    "    # hyperparameter optimization\n",
    "    grid_lgbm = GridSearchCV(estimator = lgbm_model,  # regressor model\n",
    "                         param_grid = params,  # dict of hyperparameters\n",
    "                         cv = 10,   # 10-fold cross-validation\n",
    "                         scoring = \"r2\",\n",
    "                         verbose = False,\n",
    "                         n_jobs = -1\n",
    "                    )\n",
    "    # fit the model\n",
    "    grid_lgbm.fit(x_train, y_train)\n",
    "    \n",
    "    # take best model\n",
    "    best_model = grid_lgbm.best_estimator_\n",
    "    print(grid_lgbm.best_params_)\n",
    "\n",
    "    return best_model"
   ]
  },
  {
   "cell_type": "code",
   "execution_count": 58,
   "metadata": {},
   "outputs": [],
   "source": [
    "start_ttrain2 = time.time()"
   ]
  },
  {
   "cell_type": "code",
   "execution_count": 59,
   "metadata": {},
   "outputs": [
    {
     "name": "stdout",
     "output_type": "stream",
     "text": [
      "{'learning_rate': 0.1, 'max_depth': 50, 'num_leaves': 2048, 'subsample': 0.9, 'subsample_freq': 10}\n"
     ]
    }
   ],
   "source": [
    "# take the best model\n",
    "lgbm_model = LightGBModel(x_train, y_train, lgbm_params)"
   ]
  },
  {
   "cell_type": "code",
   "execution_count": 60,
   "metadata": {},
   "outputs": [
    {
     "name": "stdout",
     "output_type": "stream",
     "text": [
      "Time of training: 3334.819506883621\n"
     ]
    }
   ],
   "source": [
    "end_ttrain2 = time.time()\n",
    "print(f\"Time of training: {end_ttrain2 - start_ttrain2}\")"
   ]
  },
  {
   "cell_type": "code",
   "execution_count": 61,
   "metadata": {},
   "outputs": [
    {
     "data": {
      "text/html": [
       "<style>#sk-container-id-2 {color: black;}#sk-container-id-2 pre{padding: 0;}#sk-container-id-2 div.sk-toggleable {background-color: white;}#sk-container-id-2 label.sk-toggleable__label {cursor: pointer;display: block;width: 100%;margin-bottom: 0;padding: 0.3em;box-sizing: border-box;text-align: center;}#sk-container-id-2 label.sk-toggleable__label-arrow:before {content: \"▸\";float: left;margin-right: 0.25em;color: #696969;}#sk-container-id-2 label.sk-toggleable__label-arrow:hover:before {color: black;}#sk-container-id-2 div.sk-estimator:hover label.sk-toggleable__label-arrow:before {color: black;}#sk-container-id-2 div.sk-toggleable__content {max-height: 0;max-width: 0;overflow: hidden;text-align: left;background-color: #f0f8ff;}#sk-container-id-2 div.sk-toggleable__content pre {margin: 0.2em;color: black;border-radius: 0.25em;background-color: #f0f8ff;}#sk-container-id-2 input.sk-toggleable__control:checked~div.sk-toggleable__content {max-height: 200px;max-width: 100%;overflow: auto;}#sk-container-id-2 input.sk-toggleable__control:checked~label.sk-toggleable__label-arrow:before {content: \"▾\";}#sk-container-id-2 div.sk-estimator input.sk-toggleable__control:checked~label.sk-toggleable__label {background-color: #d4ebff;}#sk-container-id-2 div.sk-label input.sk-toggleable__control:checked~label.sk-toggleable__label {background-color: #d4ebff;}#sk-container-id-2 input.sk-hidden--visually {border: 0;clip: rect(1px 1px 1px 1px);clip: rect(1px, 1px, 1px, 1px);height: 1px;margin: -1px;overflow: hidden;padding: 0;position: absolute;width: 1px;}#sk-container-id-2 div.sk-estimator {font-family: monospace;background-color: #f0f8ff;border: 1px dotted black;border-radius: 0.25em;box-sizing: border-box;margin-bottom: 0.5em;}#sk-container-id-2 div.sk-estimator:hover {background-color: #d4ebff;}#sk-container-id-2 div.sk-parallel-item::after {content: \"\";width: 100%;border-bottom: 1px solid gray;flex-grow: 1;}#sk-container-id-2 div.sk-label:hover label.sk-toggleable__label {background-color: #d4ebff;}#sk-container-id-2 div.sk-serial::before {content: \"\";position: absolute;border-left: 1px solid gray;box-sizing: border-box;top: 0;bottom: 0;left: 50%;z-index: 0;}#sk-container-id-2 div.sk-serial {display: flex;flex-direction: column;align-items: center;background-color: white;padding-right: 0.2em;padding-left: 0.2em;position: relative;}#sk-container-id-2 div.sk-item {position: relative;z-index: 1;}#sk-container-id-2 div.sk-parallel {display: flex;align-items: stretch;justify-content: center;background-color: white;position: relative;}#sk-container-id-2 div.sk-item::before, #sk-container-id-2 div.sk-parallel-item::before {content: \"\";position: absolute;border-left: 1px solid gray;box-sizing: border-box;top: 0;bottom: 0;left: 50%;z-index: -1;}#sk-container-id-2 div.sk-parallel-item {display: flex;flex-direction: column;z-index: 1;position: relative;background-color: white;}#sk-container-id-2 div.sk-parallel-item:first-child::after {align-self: flex-end;width: 50%;}#sk-container-id-2 div.sk-parallel-item:last-child::after {align-self: flex-start;width: 50%;}#sk-container-id-2 div.sk-parallel-item:only-child::after {width: 0;}#sk-container-id-2 div.sk-dashed-wrapped {border: 1px dashed gray;margin: 0 0.4em 0.5em 0.4em;box-sizing: border-box;padding-bottom: 0.4em;background-color: white;}#sk-container-id-2 div.sk-label label {font-family: monospace;font-weight: bold;display: inline-block;line-height: 1.2em;}#sk-container-id-2 div.sk-label-container {text-align: center;}#sk-container-id-2 div.sk-container {/* jupyter's `normalize.less` sets `[hidden] { display: none; }` but bootstrap.min.css set `[hidden] { display: none !important; }` so we also need the `!important` here to be able to override the default hidden behavior on the sphinx rendered scikit-learn.org. See: https://github.com/scikit-learn/scikit-learn/issues/21755 */display: inline-block !important;position: relative;}#sk-container-id-2 div.sk-text-repr-fallback {display: none;}</style><div id=\"sk-container-id-2\" class=\"sk-top-container\"><div class=\"sk-text-repr-fallback\"><pre>LGBMRegressor(max_depth=50, num_leaves=2048, subsample=0.9, subsample_freq=10)</pre><b>In a Jupyter environment, please rerun this cell to show the HTML representation or trust the notebook. <br />On GitHub, the HTML representation is unable to render, please try loading this page with nbviewer.org.</b></div><div class=\"sk-container\" hidden><div class=\"sk-item\"><div class=\"sk-estimator sk-toggleable\"><input class=\"sk-toggleable__control sk-hidden--visually\" id=\"sk-estimator-id-2\" type=\"checkbox\" checked><label for=\"sk-estimator-id-2\" class=\"sk-toggleable__label sk-toggleable__label-arrow\">LGBMRegressor</label><div class=\"sk-toggleable__content\"><pre>LGBMRegressor(max_depth=50, num_leaves=2048, subsample=0.9, subsample_freq=10)</pre></div></div></div></div></div>"
      ],
      "text/plain": [
       "LGBMRegressor(max_depth=50, num_leaves=2048, subsample=0.9, subsample_freq=10)"
      ]
     },
     "execution_count": 61,
     "metadata": {},
     "output_type": "execute_result"
    }
   ],
   "source": [
    "lgbm_model"
   ]
  },
  {
   "cell_type": "code",
   "execution_count": 62,
   "metadata": {},
   "outputs": [],
   "source": [
    "# save best xgboost model\n",
    "save_model(\"models/lgbm_scc_perform_v10.pkl\", lgbm_model)"
   ]
  },
  {
   "cell_type": "markdown",
   "metadata": {},
   "source": [
    "Inference with LightGBM"
   ]
  },
  {
   "cell_type": "code",
   "execution_count": 63,
   "metadata": {},
   "outputs": [],
   "source": [
    "# recover the model\n",
    "rec_lgbm = load_model(\"models/lgbm_scc_perform_v10.pkl\")"
   ]
  },
  {
   "cell_type": "code",
   "execution_count": 64,
   "metadata": {},
   "outputs": [
    {
     "name": "stdout",
     "output_type": "stream",
     "text": [
      "R-MSE train score: 21662.738\n",
      "R^2 train score: 0.827\n"
     ]
    }
   ],
   "source": [
    "# metrics for train set\n",
    "rmse_lgbm_train, r2_lgbm_train = eval_model_perform(rec_lgbm, x_train, y_train)\n",
    "print(f\"R-MSE train score: {rmse_lgbm_train:.3f}\")\n",
    "print(f\"R^2 train score: {r2_lgbm_train:.3f}\")"
   ]
  },
  {
   "cell_type": "code",
   "execution_count": 65,
   "metadata": {},
   "outputs": [
    {
     "name": "stdout",
     "output_type": "stream",
     "text": [
      "R-MSE test score: 25697.623\n",
      "R^2 test score: 0.757\n"
     ]
    }
   ],
   "source": [
    "# metrics for test set\n",
    "rmse_lgbm_test, r2_lgbm_test = eval_model_perform(rec_lgbm, x_test, y_test)\n",
    "print(f\"R-MSE test score: {rmse_lgbm_test:.3f}\")\n",
    "print(f\"R^2 test score: {r2_lgbm_test:.3f}\")"
   ]
  },
  {
   "cell_type": "markdown",
   "metadata": {},
   "source": [
    "*******"
   ]
  },
  {
   "cell_type": "code",
   "execution_count": null,
   "metadata": {},
   "outputs": [],
   "source": []
  },
  {
   "cell_type": "markdown",
   "metadata": {},
   "source": [
    "### Final Results"
   ]
  },
  {
   "cell_type": "code",
   "execution_count": 72,
   "metadata": {},
   "outputs": [],
   "source": [
    "dict_res = {\n",
    "    \"xgboost\": pd.DataFrame({\n",
    "        \"train\": {\"rmse\": rmse_xgb_train, \"r2\": r2_xgb_train},\n",
    "        \"test\": {\"rmse\": rmse_xgb_test, \"r2\": r2_xgb_test}        \n",
    "    }),\n",
    "    \"lgbm\": pd.DataFrame({\n",
    "        \"train\": {\"rmse\": rmse_lgbm_train, \"r2\": r2_lgbm_train},\n",
    "        \"test\": {\"rmse\": rmse_lgbm_test, \"r2\": r2_lgbm_test}\n",
    "    })\n",
    "}"
   ]
  },
  {
   "cell_type": "code",
   "execution_count": 73,
   "metadata": {},
   "outputs": [
    {
     "name": "stdout",
     "output_type": "stream",
     "text": [
      "Model: xgboost\n",
      "             train          test\n",
      "rmse  20553.331621  25663.483203\n",
      "r2        0.844319      0.758065\n",
      "Model: lgbm\n",
      "             train          test\n",
      "rmse  21662.737583  25697.622861\n",
      "r2        0.827059      0.757421\n"
     ]
    }
   ],
   "source": [
    "for key, res in dict_res.items():\n",
    "    print(f\"Model: {key}\")\n",
    "    print(res)"
   ]
  },
  {
   "cell_type": "code",
   "execution_count": null,
   "metadata": {},
   "outputs": [],
   "source": []
  }
 ],
 "metadata": {
  "kernelspec": {
   "display_name": "Python 3 (ipykernel)",
   "language": "python",
   "name": "python3"
  },
  "language_info": {
   "codemirror_mode": {
    "name": "ipython",
    "version": 3
   },
   "file_extension": ".py",
   "mimetype": "text/x-python",
   "name": "python",
   "nbconvert_exporter": "python",
   "pygments_lexer": "ipython3",
   "version": "3.10.13"
  }
 },
 "nbformat": 4,
 "nbformat_minor": 4
}

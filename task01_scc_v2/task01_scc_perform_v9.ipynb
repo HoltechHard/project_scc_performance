{
 "cells": [
  {
   "cell_type": "markdown",
   "metadata": {},
   "source": [
    "# Task 01: Prediction for time of using SCC - Regression"
   ]
  },
  {
   "cell_type": "markdown",
   "metadata": {},
   "source": [
    "METADATA - SUPERCOMP INFORMATION\n",
    "--------------------------------\n",
    "\n",
    "Id - index\n",
    "UID - user id                                                               [unused]  \n",
    "GID - group id                                                              [unused]  \n",
    "Area - subject area (defined by group)                                      [categorical -> OK]   \n",
    "JobName - task name specified by the user                                   [categorical -> OK]  \n",
    "Partition - the cluster on which the task was launched                      [categorical -> OK]  \n",
    "ReqNodes - requested number of nodes                                        [numerical]  \n",
    "ReqCPUS - requested number of processors                                    [numerical]  \n",
    "Timelimit - user estimate of task completion time                           [encoding time -> OK]  \n",
    "Submit - date when the task was uploaded to the system                      [encoding date -> OK]  \n",
    "Start - the date when the task was launched for execution by the scheduler  [encoding date -> OK]  \n",
    "Priority - task priority                                                    [numerical -> OK]  \n",
    "Elapsed - actual task execution time (target variable Y)                    [encoding time -> OK]  \n",
    "State - information about how the task completed (successfully, was canceled, etc.)   [categorical -> OK]  \n",
    "ExitCode - code generated after some scc task                               [categorical -> OK]  "
   ]
  },
  {
   "cell_type": "markdown",
   "metadata": {},
   "source": [
    "### Step 1: Preprocessing"
   ]
  },
  {
   "cell_type": "code",
   "execution_count": 1,
   "metadata": {},
   "outputs": [],
   "source": [
    "import numpy as np\n",
    "import pandas as pd \n",
    "import matplotlib.pyplot as plt\n",
    "import seaborn as sns"
   ]
  },
  {
   "cell_type": "code",
   "execution_count": 2,
   "metadata": {},
   "outputs": [
    {
     "data": {
      "text/html": [
       "<div>\n",
       "<style scoped>\n",
       "    .dataframe tbody tr th:only-of-type {\n",
       "        vertical-align: middle;\n",
       "    }\n",
       "\n",
       "    .dataframe tbody tr th {\n",
       "        vertical-align: top;\n",
       "    }\n",
       "\n",
       "    .dataframe thead th {\n",
       "        text-align: right;\n",
       "    }\n",
       "</style>\n",
       "<table border=\"1\" class=\"dataframe\">\n",
       "  <thead>\n",
       "    <tr style=\"text-align: right;\">\n",
       "      <th></th>\n",
       "      <th>Unnamed: 0</th>\n",
       "      <th>UID</th>\n",
       "      <th>GID</th>\n",
       "      <th>Area</th>\n",
       "      <th>JobName</th>\n",
       "      <th>Partition</th>\n",
       "      <th>ReqNodes</th>\n",
       "      <th>ReqCPUS</th>\n",
       "      <th>Timelimit</th>\n",
       "      <th>Submit</th>\n",
       "      <th>Start</th>\n",
       "      <th>Elapsed</th>\n",
       "      <th>Priority</th>\n",
       "      <th>State</th>\n",
       "      <th>ExitCode</th>\n",
       "    </tr>\n",
       "  </thead>\n",
       "  <tbody>\n",
       "    <tr>\n",
       "      <th>0</th>\n",
       "      <td>0</td>\n",
       "      <td>1420</td>\n",
       "      <td>88068</td>\n",
       "      <td>astrophys</td>\n",
       "      <td>Smilei0</td>\n",
       "      <td>tornado</td>\n",
       "      <td>70</td>\n",
       "      <td>1960</td>\n",
       "      <td>10-00:00:00</td>\n",
       "      <td>2021-08-11T16:53:04</td>\n",
       "      <td>2021-09-17T09:46:21</td>\n",
       "      <td>1-11:27:29</td>\n",
       "      <td>1</td>\n",
       "      <td>CANCELLED by 50260</td>\n",
       "      <td>0:0</td>\n",
       "    </tr>\n",
       "    <tr>\n",
       "      <th>1</th>\n",
       "      <td>1</td>\n",
       "      <td>52951</td>\n",
       "      <td>3414</td>\n",
       "      <td>phys</td>\n",
       "      <td>v149_td</td>\n",
       "      <td>tornado</td>\n",
       "      <td>2</td>\n",
       "      <td>56</td>\n",
       "      <td>14-00:00:00</td>\n",
       "      <td>2021-08-18T10:38:10</td>\n",
       "      <td>2021-08-18T10:46:12</td>\n",
       "      <td>14-00:00:38</td>\n",
       "      <td>1</td>\n",
       "      <td>TIMEOUT</td>\n",
       "      <td>0:0</td>\n",
       "    </tr>\n",
       "    <tr>\n",
       "      <th>2</th>\n",
       "      <td>2</td>\n",
       "      <td>24801</td>\n",
       "      <td>97723</td>\n",
       "      <td>mech</td>\n",
       "      <td>fluent</td>\n",
       "      <td>tornado</td>\n",
       "      <td>6</td>\n",
       "      <td>168</td>\n",
       "      <td>14-00:00:00</td>\n",
       "      <td>2021-08-18T14:50:05</td>\n",
       "      <td>2021-08-18T14:50:05</td>\n",
       "      <td>13-21:05:40</td>\n",
       "      <td>1</td>\n",
       "      <td>CANCELLED by 50341</td>\n",
       "      <td>0:0</td>\n",
       "    </tr>\n",
       "    <tr>\n",
       "      <th>3</th>\n",
       "      <td>3</td>\n",
       "      <td>24801</td>\n",
       "      <td>97723</td>\n",
       "      <td>mech</td>\n",
       "      <td>fluent</td>\n",
       "      <td>tornado</td>\n",
       "      <td>6</td>\n",
       "      <td>168</td>\n",
       "      <td>14-00:00:00</td>\n",
       "      <td>2021-08-18T14:52:31</td>\n",
       "      <td>2021-08-18T14:52:32</td>\n",
       "      <td>13-21:04:39</td>\n",
       "      <td>1</td>\n",
       "      <td>CANCELLED by 50341</td>\n",
       "      <td>0:0</td>\n",
       "    </tr>\n",
       "    <tr>\n",
       "      <th>4</th>\n",
       "      <td>4</td>\n",
       "      <td>70802</td>\n",
       "      <td>33028</td>\n",
       "      <td>energ</td>\n",
       "      <td>dcss.slurm</td>\n",
       "      <td>tornado-k40</td>\n",
       "      <td>1</td>\n",
       "      <td>1</td>\n",
       "      <td>14-00:00:00</td>\n",
       "      <td>2021-08-19T15:33:49</td>\n",
       "      <td>2021-08-19T15:33:50</td>\n",
       "      <td>14-00:00:04</td>\n",
       "      <td>1</td>\n",
       "      <td>TIMEOUT</td>\n",
       "      <td>0:0</td>\n",
       "    </tr>\n",
       "  </tbody>\n",
       "</table>\n",
       "</div>"
      ],
      "text/plain": [
       "   Unnamed: 0    UID    GID       Area     JobName    Partition  ReqNodes  \\\n",
       "0           0   1420  88068  astrophys     Smilei0      tornado        70   \n",
       "1           1  52951   3414       phys     v149_td      tornado         2   \n",
       "2           2  24801  97723       mech      fluent      tornado         6   \n",
       "3           3  24801  97723       mech      fluent      tornado         6   \n",
       "4           4  70802  33028      energ  dcss.slurm  tornado-k40         1   \n",
       "\n",
       "   ReqCPUS    Timelimit               Submit                Start  \\\n",
       "0     1960  10-00:00:00  2021-08-11T16:53:04  2021-09-17T09:46:21   \n",
       "1       56  14-00:00:00  2021-08-18T10:38:10  2021-08-18T10:46:12   \n",
       "2      168  14-00:00:00  2021-08-18T14:50:05  2021-08-18T14:50:05   \n",
       "3      168  14-00:00:00  2021-08-18T14:52:31  2021-08-18T14:52:32   \n",
       "4        1  14-00:00:00  2021-08-19T15:33:49  2021-08-19T15:33:50   \n",
       "\n",
       "       Elapsed  Priority               State ExitCode  \n",
       "0   1-11:27:29         1  CANCELLED by 50260      0:0  \n",
       "1  14-00:00:38         1             TIMEOUT      0:0  \n",
       "2  13-21:05:40         1  CANCELLED by 50341      0:0  \n",
       "3  13-21:04:39         1  CANCELLED by 50341      0:0  \n",
       "4  14-00:00:04         1             TIMEOUT      0:0  "
      ]
     },
     "execution_count": 2,
     "metadata": {},
     "output_type": "execute_result"
    }
   ],
   "source": [
    "data = pd.read_csv(\"datasets/train_w_areas_st_till_june.csv\")\n",
    "data.head()"
   ]
  },
  {
   "cell_type": "code",
   "execution_count": 3,
   "metadata": {},
   "outputs": [
    {
     "name": "stdout",
     "output_type": "stream",
     "text": [
      "#total of samples =  1290729\n",
      "#users =  245\n"
     ]
    }
   ],
   "source": [
    "# check important information\n",
    "print(\"#total of samples = \", len(data))\n",
    "print(\"#users = \", len(data[\"UID\"].unique()))"
   ]
  },
  {
   "cell_type": "markdown",
   "metadata": {},
   "source": [
    "Filter missing values"
   ]
  },
  {
   "cell_type": "code",
   "execution_count": 4,
   "metadata": {},
   "outputs": [
    {
     "data": {
      "image/png": "[encoded data removed]",
      "text/plain": [
       "<Figure size 834.875x500 with 1 Axes>"
      ]
     },
     "metadata": {},
     "output_type": "display_data"
    }
   ],
   "source": [
    "# check missing data\n",
    "sns.displot(\n",
    "    data = data.isna().melt(value_name=\"missing\"),\n",
    "    y = \"variable\",\n",
    "    hue = \"missing\",\n",
    "    multiple = \"fill\",\n",
    "    aspect = 1.5\n",
    ")\n",
    "\n",
    "plt.show()"
   ]
  },
  {
   "cell_type": "code",
   "execution_count": 5,
   "metadata": {},
   "outputs": [
    {
     "name": "stdout",
     "output_type": "stream",
     "text": [
      "#total samples without missing values =  1275902\n"
     ]
    }
   ],
   "source": [
    "data = data.dropna()\n",
    "print(\"#total samples without missing values = \", len(data))"
   ]
  },
  {
   "cell_type": "code",
   "execution_count": 6,
   "metadata": {},
   "outputs": [
    {
     "name": "stdout",
     "output_type": "stream",
     "text": [
      "Number of samples:  1275902\n",
      "Columns =  Index(['Unnamed: 0', 'UID', 'GID', 'Area', 'JobName', 'Partition', 'ReqNodes',\n",
      "       'ReqCPUS', 'Timelimit', 'Submit', 'Start', 'Elapsed', 'Priority',\n",
      "       'State', 'ExitCode'],\n",
      "      dtype='object')\n",
      "#Columns =  15\n"
     ]
    }
   ],
   "source": [
    "# check information of dataset\n",
    "print(\"Number of samples: \", len(data.index))\n",
    "print(\"Columns = \", data.columns)\n",
    "print(\"#Columns = \", len(data.columns))"
   ]
  },
  {
   "cell_type": "markdown",
   "metadata": {},
   "source": [
    "Encode State"
   ]
  },
  {
   "cell_type": "code",
   "execution_count": 7,
   "metadata": {},
   "outputs": [],
   "source": [
    "def replace_cancelled_states(status):\n",
    "    if \"CANCELLED\" in status:\n",
    "        return \"CANCELLED\"\n",
    "    return status"
   ]
  },
  {
   "cell_type": "code",
   "execution_count": 8,
   "metadata": {},
   "outputs": [],
   "source": [
    "def encoding_states(data, column):\n",
    "    data[column] = data[column].apply(lambda x: replace_cancelled_states(x))\n",
    "    return data"
   ]
  },
  {
   "cell_type": "code",
   "execution_count": 9,
   "metadata": {},
   "outputs": [],
   "source": [
    "data = encoding_states(data, \"State\")"
   ]
  },
  {
   "cell_type": "markdown",
   "metadata": {},
   "source": [
    "Build metadata dictionary"
   ]
  },
  {
   "cell_type": "code",
   "execution_count": 10,
   "metadata": {},
   "outputs": [],
   "source": [
    "import calendar \n",
    "\n",
    "def build_metadata(data):\n",
    "    # define spend time metadata\n",
    "    st_cols = [\"Timelimit\", \"Elapsed\"]\n",
    "    st_metadata = [f\"Log{col}Sec\" for col in st_cols]\n",
    "\n",
    "    # define time metadata\n",
    "    time_cols = [\"Submit\", \"Start\"]\n",
    "    t_instances = {\n",
    "        \"Year\": list(np.arange(2020, 2025, 1)),\n",
    "        \"Month\": list(calendar.month_name)[1:],\n",
    "        \"DayWeek\": list(calendar.day_name),\n",
    "    }\n",
    "    time_metadata = [f\"{tcol}{key} {value}\" for tcol in time_cols for key, values in t_instances.items() for value in values]    \n",
    "\n",
    "    # define categorical instances\n",
    "    cat_cols = [\"Area\", \"Partition\", \"State\"]\n",
    "    cat_instances = {        \n",
    "        \"Area\": data[\"Area\"].unique().tolist(),\n",
    "        \"Partition\": data[\"Partition\"].unique().tolist(),\n",
    "        \"State\": data[\"State\"].unique().tolist()\n",
    "    }\n",
    "    categorical_metadata = [f\"{key} {value}\" for key, values in cat_instances.items() for value in values]\n",
    "\n",
    "    # define metadata from original dataset\n",
    "    original_metadata = data.columns[1:].tolist()\n",
    "\n",
    "    # filtered columns\n",
    "    filtered_cols = [\"UID\", \"GID\", \"JobName\", \"ExitCode\"] + st_cols + time_cols + cat_cols\n",
    "\n",
    "    # get metadata\n",
    "    dict_metadata = {        \n",
    "        **cat_instances,\n",
    "        \"scc_metadata\": [item for item in original_metadata if item not in filtered_cols] + \n",
    "                            st_metadata + [\"LogTimeWaitting\"] + time_metadata + categorical_metadata\n",
    "    }\n",
    "\n",
    "    return dict_metadata"
   ]
  },
  {
   "cell_type": "code",
   "execution_count": 11,
   "metadata": {},
   "outputs": [],
   "source": [
    "# store dictionary of metadata\n",
    "import json\n",
    "\n",
    "def save_dictionary(dict, file_path):\n",
    "    with open(file_path, \"w\") as file:\n",
    "        json.dump(dict, file)"
   ]
  },
  {
   "cell_type": "code",
   "execution_count": 12,
   "metadata": {},
   "outputs": [],
   "source": [
    "# load dictionary\n",
    "def load_dictionary(file_path):\n",
    "    with open(file_path, \"r\") as file:\n",
    "        return json.load(file)"
   ]
  },
  {
   "cell_type": "code",
   "execution_count": 13,
   "metadata": {},
   "outputs": [],
   "source": [
    "dict_metadata = build_metadata(data)"
   ]
  },
  {
   "cell_type": "code",
   "execution_count": 14,
   "metadata": {},
   "outputs": [],
   "source": [
    "save_dictionary(dict_metadata, \"metadata/scc_metadata.json\")"
   ]
  },
  {
   "cell_type": "code",
   "execution_count": 15,
   "metadata": {},
   "outputs": [],
   "source": [
    "dict_metadata = load_dictionary(\"metadata/scc_metadata.json\")"
   ]
  },
  {
   "cell_type": "code",
   "execution_count": 16,
   "metadata": {},
   "outputs": [
    {
     "name": "stdout",
     "output_type": "stream",
     "text": [
      "#features = 75\n"
     ]
    }
   ],
   "source": [
    "num_features = len(dict_metadata[\"scc_metadata\"])\n",
    "print(f\"#features = {num_features}\")"
   ]
  },
  {
   "cell_type": "markdown",
   "metadata": {},
   "source": [
    "Encode transcurred time (D-HH:MM:SS)"
   ]
  },
  {
   "cell_type": "code",
   "execution_count": 17,
   "metadata": {},
   "outputs": [],
   "source": [
    "# function to convert transcurred time to logaritmic scale of seconds\n",
    "def time_conversion(time_data):\n",
    "    # extract time units\n",
    "    if \"-\" in time_data:\n",
    "        days, timer = time_data.split(\"-\")\n",
    "    else:\n",
    "        days = 0\n",
    "        timer = time_data \n",
    "    \n",
    "    days = int(days)\n",
    "    hours, min, sec = map(int, timer.split(\":\"))\n",
    "\n",
    "    # calculate total seconds\n",
    "    total_sec = days*24*60*60 + hours*60*60 + min*60 + sec\n",
    "    \n",
    "    return total_sec"
   ]
  },
  {
   "cell_type": "code",
   "execution_count": 18,
   "metadata": {},
   "outputs": [],
   "source": [
    "# function to encode transcurred time for entire column\n",
    "def encoding_time(data, name_col):\n",
    "    data[\"Log\"+name_col+\"Sec\"] = data[name_col].apply(time_conversion)\n",
    "    data[\"Log\"+name_col+\"Sec\"] = np.log10(1 + data[\"Log\"+name_col+\"Sec\"])\n",
    "    \n",
    "    return data"
   ]
  },
  {
   "cell_type": "markdown",
   "metadata": {},
   "source": [
    "Encode time difference between Task submitted and started"
   ]
  },
  {
   "cell_type": "code",
   "execution_count": 19,
   "metadata": {},
   "outputs": [],
   "source": [
    "# function to calculate difference between 2 dates\n",
    "from datetime import datetime\n",
    "\n",
    "def difference_dates(date1, date2):\n",
    "    dformat = \"%Y-%m-%dT%H:%M:%S\"\n",
    "    date1 = datetime.strptime(date1, dformat)\n",
    "    date2 = datetime.strptime(date2, dformat)\n",
    "    tdiff = date2 - date1\n",
    "\n",
    "    return tdiff.total_seconds()"
   ]
  },
  {
   "cell_type": "code",
   "execution_count": 20,
   "metadata": {},
   "outputs": [],
   "source": [
    "# function to calculate wait time between submission and start task\n",
    "def encode_twatting(data, col1, col2):\n",
    "    data[\"LogTimeWaitting\"] = data.apply(lambda row: difference_dates(row[col1], row[col2]), axis = 1)\n",
    "    data[\"LogTimeWaitting\"] = np.log10(1 + data[\"LogTimeWaitting\"])\n",
    "    \n",
    "    return data"
   ]
  },
  {
   "cell_type": "markdown",
   "metadata": {},
   "source": [
    "Encode dates"
   ]
  },
  {
   "cell_type": "code",
   "execution_count": 21,
   "metadata": {},
   "outputs": [],
   "source": [
    "import calendar\n",
    "\n",
    "def encoding_date(data, name_col):\n",
    "    #categorical variants of values\n",
    "    year_names = list(np.arange(2020, 2025, 1))\n",
    "    year_variants = [f\"{name_col}Year {i}\" for i in year_names]\n",
    "    month_names = list(calendar.month_name)\n",
    "    month_variants = [f\"{name_col}Month {j}\" for j in month_names if j!='']\n",
    "    dayw_names = list(calendar.day_name)\n",
    "    dayw_variants = [f\"{name_col}DayWeek {k}\" for k in dayw_names]\n",
    "    # temporal dataframe\n",
    "    tmp_cols = year_variants + month_variants + dayw_variants\n",
    "    tmp_frame = pd.DataFrame(np.zeros((len(data), len(tmp_cols))), columns = tmp_cols)\n",
    "    tmp_frame.index = data.index\n",
    "    # generate datetime\n",
    "    dates_mod = pd.to_datetime(data[name_col])\n",
    "    dates_mod.index = data.index\n",
    "    \n",
    "    for i, date_val in dates_mod.items():\n",
    "        tmp_frame.loc[i, f\"{name_col}Year {date_val.year}\"] = 1\n",
    "        tmp_frame.loc[i, f\"{name_col}Month {calendar.month_name[date_val.month]}\"] = 1\n",
    "        tmp_frame.loc[i, f\"{name_col}DayWeek {calendar.day_name[date_val.day_of_week]}\"] = 1\n",
    "\n",
    "    # concatenate data-frames\n",
    "    data = pd.concat([data, tmp_frame], axis = 1, ignore_index = False)\n",
    "\n",
    "    return data"
   ]
  },
  {
   "cell_type": "markdown",
   "metadata": {},
   "source": [
    "Encode categorical data"
   ]
  },
  {
   "cell_type": "code",
   "execution_count": 22,
   "metadata": {},
   "outputs": [],
   "source": [
    "# one-hot encoder for categorical variables \n",
    "def encoding_category(data, category):\n",
    "    col_instances = [f\"{category} {i}\" for i in dict_metadata[category]]\n",
    "    tmp_df = pd.DataFrame(np.zeros((len(data), len(col_instances))), columns = col_instances)\n",
    "    tmp_df.index = data.index\n",
    "\n",
    "    for i, cat_val in data[category].items():\n",
    "        tmp_df.loc[i, f\"{category} {cat_val}\"] = 1\n",
    "    # concatenate data-frames\n",
    "    data = pd.concat([data, tmp_df], axis = 1, ignore_index = False)\n",
    "\n",
    "    return data"
   ]
  },
  {
   "cell_type": "markdown",
   "metadata": {},
   "source": [
    "Final pipeline for data preprocessing"
   ]
  },
  {
   "cell_type": "code",
   "execution_count": 23,
   "metadata": {},
   "outputs": [],
   "source": [
    "def preprocessing_pipeline(data):\n",
    "    # encode states\n",
    "    data = encoding_states(data, \"State\")\n",
    "    # encode the Time limit\n",
    "    data = encoding_time(data, \"Timelimit\")\n",
    "    # encode the Time elapsed\n",
    "    data = encoding_time(data, \"Elapsed\")\n",
    "    # encode the Time of waitting\n",
    "    data = encode_twatting(data, \"Submit\", \"Start\")\n",
    "    # encode the Submit dates\n",
    "    data = encoding_date(data, \"Submit\")\n",
    "    # encode the Start dates\n",
    "    data = encoding_date(data, \"Start\")\n",
    "    \n",
    "    # one-hot encoding for categorical variables    \n",
    "    list_cats = [key for key in dict_metadata.keys() if key!=\"scc_metadata\"]\n",
    "\n",
    "    for category in list_cats:\n",
    "        data = encoding_category(data, category)\n",
    "    \n",
    "    # drop the original preprocessed columns\n",
    "    data = data.drop(columns = [c for c in data.columns.tolist() if c not in dict_metadata[\"scc_metadata\"]])\n",
    "\n",
    "    return data"
   ]
  },
  {
   "cell_type": "code",
   "execution_count": 24,
   "metadata": {},
   "outputs": [],
   "source": [
    "import time\n",
    "start_tpreproc = time.time()"
   ]
  },
  {
   "cell_type": "code",
   "execution_count": 25,
   "metadata": {},
   "outputs": [],
   "source": [
    "# preprocess entire data\n",
    "data = preprocessing_pipeline(data)"
   ]
  },
  {
   "cell_type": "code",
   "execution_count": 26,
   "metadata": {},
   "outputs": [
    {
     "name": "stdout",
     "output_type": "stream",
     "text": [
      "Preprocessing time: 1709.103511095047 seconds\n"
     ]
    }
   ],
   "source": [
    "end_tpreproc = time.time()\n",
    "print(f\"Preprocessing time: {end_tpreproc - start_tpreproc} seconds\")"
   ]
  },
  {
   "cell_type": "code",
   "execution_count": null,
   "metadata": {},
   "outputs": [],
   "source": []
  },
  {
   "cell_type": "markdown",
   "metadata": {},
   "source": [
    "### Step 2: Statistical Analysis"
   ]
  },
  {
   "cell_type": "code",
   "execution_count": 27,
   "metadata": {},
   "outputs": [],
   "source": [
    "import seaborn as sns\n",
    "# function to plot distribution under \n",
    "def plot_time_distribution(data, column):    \n",
    "    sns.histplot(data[column], color = \"gray\")\n",
    "    plt.xlabel(\"Time (in log10 scale)\")\n",
    "    plt.ylabel(\"Frequencies\")\n",
    "    plt.title(\"Histogram distribution for \" + column)    \n",
    "    plt.show()"
   ]
  },
  {
   "cell_type": "code",
   "execution_count": 28,
   "metadata": {},
   "outputs": [
    {
     "data": {
      "image/png": "[encoded data removed]",
      "text/plain": [
       "<Figure size 640x480 with 1 Axes>"
      ]
     },
     "metadata": {},
     "output_type": "display_data"
    }
   ],
   "source": [
    "plot_time_distribution(data, \"LogTimelimitSec\")"
   ]
  },
  {
   "cell_type": "code",
   "execution_count": 29,
   "metadata": {},
   "outputs": [
    {
     "data": {
      "image/png": "[encoded data removed]",
      "text/plain": [
       "<Figure size 640x480 with 1 Axes>"
      ]
     },
     "metadata": {},
     "output_type": "display_data"
    }
   ],
   "source": [
    "plot_time_distribution(data, \"LogElapsedSec\")"
   ]
  },
  {
   "cell_type": "code",
   "execution_count": 31,
   "metadata": {},
   "outputs": [
    {
     "data": {
      "image/png": "[encoded data removed]",
      "text/plain": [
       "<Figure size 640x480 with 1 Axes>"
      ]
     },
     "metadata": {},
     "output_type": "display_data"
    }
   ],
   "source": [
    "plot_time_distribution(data, \"LogTimeWaitting\")"
   ]
  },
  {
   "cell_type": "code",
   "execution_count": 32,
   "metadata": {},
   "outputs": [],
   "source": [
    "# information to graph boxplot\n",
    "def plot_time_boxplot(data, col1, col2, col3):\n",
    "    fig, axs = plt.subplots(1, 3, figsize = (12, 4))\n",
    "    sns.boxplot(data[col1], ax = axs[0])\n",
    "    axs[0].set_title(\"Box Plot for Time Limit (in log10 scale)\")\n",
    "    sns.boxplot(data[col2], ax = axs[1])    \n",
    "    axs[1].set_title(\"Box plot for Time Elapsed (in log10 scale)\")\n",
    "    sns.boxplot(data[col3], ax = axs[2])\n",
    "    axs[2].set_title(\"Box plot for Time Waitting (in log10 scale)\")    \n",
    "    plt.tight_layout()\n",
    "    plt.show()"
   ]
  },
  {
   "cell_type": "code",
   "execution_count": 33,
   "metadata": {},
   "outputs": [
    {
     "data": {
      "text/html": [
       "<div>\n",
       "<style scoped>\n",
       "    .dataframe tbody tr th:only-of-type {\n",
       "        vertical-align: middle;\n",
       "    }\n",
       "\n",
       "    .dataframe tbody tr th {\n",
       "        vertical-align: top;\n",
       "    }\n",
       "\n",
       "    .dataframe thead th {\n",
       "        text-align: right;\n",
       "    }\n",
       "</style>\n",
       "<table border=\"1\" class=\"dataframe\">\n",
       "  <thead>\n",
       "    <tr style=\"text-align: right;\">\n",
       "      <th></th>\n",
       "      <th>LogTimelimitSec</th>\n",
       "      <th>LogElapsedSec</th>\n",
       "      <th>LogTimeWaitting</th>\n",
       "    </tr>\n",
       "  </thead>\n",
       "  <tbody>\n",
       "    <tr>\n",
       "      <th>count</th>\n",
       "      <td>1.275902e+06</td>\n",
       "      <td>1.275902e+06</td>\n",
       "      <td>1.275902e+06</td>\n",
       "    </tr>\n",
       "    <tr>\n",
       "      <th>mean</th>\n",
       "      <td>5.185922e+00</td>\n",
       "      <td>2.749971e+00</td>\n",
       "      <td>2.252883e+00</td>\n",
       "    </tr>\n",
       "    <tr>\n",
       "      <th>std</th>\n",
       "      <td>3.872218e-01</td>\n",
       "      <td>9.260652e-01</td>\n",
       "      <td>1.787600e+00</td>\n",
       "    </tr>\n",
       "    <tr>\n",
       "      <th>min</th>\n",
       "      <td>1.785330e+00</td>\n",
       "      <td>3.010300e-01</td>\n",
       "      <td>0.000000e+00</td>\n",
       "    </tr>\n",
       "    <tr>\n",
       "      <th>25%</th>\n",
       "      <td>5.237546e+00</td>\n",
       "      <td>2.075547e+00</td>\n",
       "      <td>3.010300e-01</td>\n",
       "    </tr>\n",
       "    <tr>\n",
       "      <th>50%</th>\n",
       "      <td>5.237546e+00</td>\n",
       "      <td>2.617000e+00</td>\n",
       "      <td>2.565848e+00</td>\n",
       "    </tr>\n",
       "    <tr>\n",
       "      <th>75%</th>\n",
       "      <td>5.237546e+00</td>\n",
       "      <td>3.302980e+00</td>\n",
       "      <td>3.749659e+00</td>\n",
       "    </tr>\n",
       "    <tr>\n",
       "      <th>max</th>\n",
       "      <td>6.082642e+00</td>\n",
       "      <td>6.082656e+00</td>\n",
       "      <td>6.501223e+00</td>\n",
       "    </tr>\n",
       "  </tbody>\n",
       "</table>\n",
       "</div>"
      ],
      "text/plain": [
       "       LogTimelimitSec  LogElapsedSec  LogTimeWaitting\n",
       "count     1.275902e+06   1.275902e+06     1.275902e+06\n",
       "mean      5.185922e+00   2.749971e+00     2.252883e+00\n",
       "std       3.872218e-01   9.260652e-01     1.787600e+00\n",
       "min       1.785330e+00   3.010300e-01     0.000000e+00\n",
       "25%       5.237546e+00   2.075547e+00     3.010300e-01\n",
       "50%       5.237546e+00   2.617000e+00     2.565848e+00\n",
       "75%       5.237546e+00   3.302980e+00     3.749659e+00\n",
       "max       6.082642e+00   6.082656e+00     6.501223e+00"
      ]
     },
     "execution_count": 33,
     "metadata": {},
     "output_type": "execute_result"
    }
   ],
   "source": [
    "# check statistics for original times\n",
    "data[[\"LogTimelimitSec\", \"LogElapsedSec\", \"LogTimeWaitting\"]].describe()"
   ]
  },
  {
   "cell_type": "code",
   "execution_count": 34,
   "metadata": {},
   "outputs": [
    {
     "data": {
      "image/png": "[encoded data removed]",
      "text/plain": [
       "<Figure size 1200x400 with 3 Axes>"
      ]
     },
     "metadata": {},
     "output_type": "display_data"
    }
   ],
   "source": [
    "plot_time_boxplot(data, \"LogTimelimitSec\", \"LogElapsedSec\", \"LogTimeWaitting\")"
   ]
  },
  {
   "cell_type": "code",
   "execution_count": 35,
   "metadata": {},
   "outputs": [
    {
     "data": {
      "text/html": [
       "<div>\n",
       "<style scoped>\n",
       "    .dataframe tbody tr th:only-of-type {\n",
       "        vertical-align: middle;\n",
       "    }\n",
       "\n",
       "    .dataframe tbody tr th {\n",
       "        vertical-align: top;\n",
       "    }\n",
       "\n",
       "    .dataframe thead th {\n",
       "        text-align: right;\n",
       "    }\n",
       "</style>\n",
       "<table border=\"1\" class=\"dataframe\">\n",
       "  <thead>\n",
       "    <tr style=\"text-align: right;\">\n",
       "      <th></th>\n",
       "      <th>ReqNodes</th>\n",
       "      <th>ReqCPUS</th>\n",
       "      <th>Priority</th>\n",
       "      <th>LogTimelimitSec</th>\n",
       "      <th>LogElapsedSec</th>\n",
       "      <th>LogTimeWaitting</th>\n",
       "      <th>SubmitYear 2020</th>\n",
       "      <th>SubmitYear 2021</th>\n",
       "      <th>SubmitYear 2022</th>\n",
       "      <th>SubmitYear 2023</th>\n",
       "      <th>...</th>\n",
       "      <th>Partition tornado-k40</th>\n",
       "      <th>Partition g2</th>\n",
       "      <th>Partition cascade</th>\n",
       "      <th>Partition nv</th>\n",
       "      <th>State CANCELLED</th>\n",
       "      <th>State TIMEOUT</th>\n",
       "      <th>State COMPLETED</th>\n",
       "      <th>State FAILED</th>\n",
       "      <th>State NODE_FAIL</th>\n",
       "      <th>State OUT_OF_MEMORY</th>\n",
       "    </tr>\n",
       "  </thead>\n",
       "  <tbody>\n",
       "    <tr>\n",
       "      <th>0</th>\n",
       "      <td>70</td>\n",
       "      <td>1960</td>\n",
       "      <td>1</td>\n",
       "      <td>5.936514</td>\n",
       "      <td>5.106021</td>\n",
       "      <td>6.501223</td>\n",
       "      <td>0.0</td>\n",
       "      <td>1.0</td>\n",
       "      <td>0.0</td>\n",
       "      <td>0.0</td>\n",
       "      <td>...</td>\n",
       "      <td>0.0</td>\n",
       "      <td>0.0</td>\n",
       "      <td>0.0</td>\n",
       "      <td>0.0</td>\n",
       "      <td>1.0</td>\n",
       "      <td>0.0</td>\n",
       "      <td>0.0</td>\n",
       "      <td>0.0</td>\n",
       "      <td>0.0</td>\n",
       "      <td>0.0</td>\n",
       "    </tr>\n",
       "    <tr>\n",
       "      <th>1</th>\n",
       "      <td>2</td>\n",
       "      <td>56</td>\n",
       "      <td>1</td>\n",
       "      <td>6.082642</td>\n",
       "      <td>6.082656</td>\n",
       "      <td>2.683947</td>\n",
       "      <td>0.0</td>\n",
       "      <td>1.0</td>\n",
       "      <td>0.0</td>\n",
       "      <td>0.0</td>\n",
       "      <td>...</td>\n",
       "      <td>0.0</td>\n",
       "      <td>0.0</td>\n",
       "      <td>0.0</td>\n",
       "      <td>0.0</td>\n",
       "      <td>0.0</td>\n",
       "      <td>1.0</td>\n",
       "      <td>0.0</td>\n",
       "      <td>0.0</td>\n",
       "      <td>0.0</td>\n",
       "      <td>0.0</td>\n",
       "    </tr>\n",
       "    <tr>\n",
       "      <th>2</th>\n",
       "      <td>6</td>\n",
       "      <td>168</td>\n",
       "      <td>1</td>\n",
       "      <td>6.082642</td>\n",
       "      <td>6.078870</td>\n",
       "      <td>0.000000</td>\n",
       "      <td>0.0</td>\n",
       "      <td>1.0</td>\n",
       "      <td>0.0</td>\n",
       "      <td>0.0</td>\n",
       "      <td>...</td>\n",
       "      <td>0.0</td>\n",
       "      <td>0.0</td>\n",
       "      <td>0.0</td>\n",
       "      <td>0.0</td>\n",
       "      <td>1.0</td>\n",
       "      <td>0.0</td>\n",
       "      <td>0.0</td>\n",
       "      <td>0.0</td>\n",
       "      <td>0.0</td>\n",
       "      <td>0.0</td>\n",
       "    </tr>\n",
       "    <tr>\n",
       "      <th>3</th>\n",
       "      <td>6</td>\n",
       "      <td>168</td>\n",
       "      <td>1</td>\n",
       "      <td>6.082642</td>\n",
       "      <td>6.078848</td>\n",
       "      <td>0.301030</td>\n",
       "      <td>0.0</td>\n",
       "      <td>1.0</td>\n",
       "      <td>0.0</td>\n",
       "      <td>0.0</td>\n",
       "      <td>...</td>\n",
       "      <td>0.0</td>\n",
       "      <td>0.0</td>\n",
       "      <td>0.0</td>\n",
       "      <td>0.0</td>\n",
       "      <td>1.0</td>\n",
       "      <td>0.0</td>\n",
       "      <td>0.0</td>\n",
       "      <td>0.0</td>\n",
       "      <td>0.0</td>\n",
       "      <td>0.0</td>\n",
       "    </tr>\n",
       "    <tr>\n",
       "      <th>4</th>\n",
       "      <td>1</td>\n",
       "      <td>1</td>\n",
       "      <td>1</td>\n",
       "      <td>6.082642</td>\n",
       "      <td>6.082644</td>\n",
       "      <td>0.301030</td>\n",
       "      <td>0.0</td>\n",
       "      <td>1.0</td>\n",
       "      <td>0.0</td>\n",
       "      <td>0.0</td>\n",
       "      <td>...</td>\n",
       "      <td>1.0</td>\n",
       "      <td>0.0</td>\n",
       "      <td>0.0</td>\n",
       "      <td>0.0</td>\n",
       "      <td>0.0</td>\n",
       "      <td>1.0</td>\n",
       "      <td>0.0</td>\n",
       "      <td>0.0</td>\n",
       "      <td>0.0</td>\n",
       "      <td>0.0</td>\n",
       "    </tr>\n",
       "  </tbody>\n",
       "</table>\n",
       "<p>5 rows × 75 columns</p>\n",
       "</div>"
      ],
      "text/plain": [
       "   ReqNodes  ReqCPUS  Priority  LogTimelimitSec  LogElapsedSec  \\\n",
       "0        70     1960         1         5.936514       5.106021   \n",
       "1         2       56         1         6.082642       6.082656   \n",
       "2         6      168         1         6.082642       6.078870   \n",
       "3         6      168         1         6.082642       6.078848   \n",
       "4         1        1         1         6.082642       6.082644   \n",
       "\n",
       "   LogTimeWaitting  SubmitYear 2020  SubmitYear 2021  SubmitYear 2022  \\\n",
       "0         6.501223              0.0              1.0              0.0   \n",
       "1         2.683947              0.0              1.0              0.0   \n",
       "2         0.000000              0.0              1.0              0.0   \n",
       "3         0.301030              0.0              1.0              0.0   \n",
       "4         0.301030              0.0              1.0              0.0   \n",
       "\n",
       "   SubmitYear 2023  ...  Partition tornado-k40  Partition g2  \\\n",
       "0              0.0  ...                    0.0           0.0   \n",
       "1              0.0  ...                    0.0           0.0   \n",
       "2              0.0  ...                    0.0           0.0   \n",
       "3              0.0  ...                    0.0           0.0   \n",
       "4              0.0  ...                    1.0           0.0   \n",
       "\n",
       "   Partition cascade  Partition nv  State CANCELLED  State TIMEOUT  \\\n",
       "0                0.0           0.0              1.0            0.0   \n",
       "1                0.0           0.0              0.0            1.0   \n",
       "2                0.0           0.0              1.0            0.0   \n",
       "3                0.0           0.0              1.0            0.0   \n",
       "4                0.0           0.0              0.0            1.0   \n",
       "\n",
       "   State COMPLETED  State FAILED  State NODE_FAIL  State OUT_OF_MEMORY  \n",
       "0              0.0           0.0              0.0                  0.0  \n",
       "1              0.0           0.0              0.0                  0.0  \n",
       "2              0.0           0.0              0.0                  0.0  \n",
       "3              0.0           0.0              0.0                  0.0  \n",
       "4              0.0           0.0              0.0                  0.0  \n",
       "\n",
       "[5 rows x 75 columns]"
      ]
     },
     "execution_count": 35,
     "metadata": {},
     "output_type": "execute_result"
    }
   ],
   "source": [
    "data.head()"
   ]
  },
  {
   "cell_type": "markdown",
   "metadata": {},
   "source": [
    "Categorical Features - Area"
   ]
  },
  {
   "cell_type": "code",
   "execution_count": 36,
   "metadata": {},
   "outputs": [],
   "source": [
    "def count_categories(data, col):\n",
    "    categ_instances = [categ for categ in data.columns if categ.startswith(col)]\n",
    "    categ_counts = data[categ_instances].sum()\n",
    "\n",
    "    return categ_counts"
   ]
  },
  {
   "cell_type": "code",
   "execution_count": 37,
   "metadata": {},
   "outputs": [],
   "source": [
    "def plot_count_categories(col, results):\n",
    "    sns.barplot(x = results.values.tolist(), y = results.index.tolist(), orient = \"y\")\n",
    "    plt.title(\"Statistical analysis by \" + col)\n",
    "    plt.show()"
   ]
  },
  {
   "cell_type": "code",
   "execution_count": 38,
   "metadata": {},
   "outputs": [
    {
     "name": "stdout",
     "output_type": "stream",
     "text": [
      "Area astrophys      2338.0\n",
      "Area phys          54034.0\n",
      "Area mech          10800.0\n",
      "Area energ          8985.0\n",
      "Area mach          34500.0\n",
      "Area radiophys     81953.0\n",
      "Area biophys       21923.0\n",
      "Area geophys      999420.0\n",
      "Area bioinf        41840.0\n",
      "Area it            20109.0\n",
      "dtype: float64\n"
     ]
    }
   ],
   "source": [
    "count_areas = count_categories(data, \"Area\")\n",
    "print(count_areas)"
   ]
  },
  {
   "cell_type": "code",
   "execution_count": 39,
   "metadata": {},
   "outputs": [
    {
     "data": {
      "image/png": "[encoded data removed]",
      "text/plain": [
       "<Figure size 640x480 with 1 Axes>"
      ]
     },
     "metadata": {},
     "output_type": "display_data"
    }
   ],
   "source": [
    "plot_count_categories(\"Area\", count_areas)"
   ]
  },
  {
   "cell_type": "markdown",
   "metadata": {},
   "source": [
    "Outliers detection using Z-score method"
   ]
  },
  {
   "cell_type": "code",
   "execution_count": 40,
   "metadata": {},
   "outputs": [],
   "source": [
    "from scipy import stats\n",
    "\n",
    "def outliers_detection(data, col):\n",
    "    z_score = stats.zscore(data[col])\n",
    "    z_threshold = 3\n",
    "    outliers = data[z_score.abs() > z_threshold]\n",
    "    \n",
    "    return outliers"
   ]
  },
  {
   "cell_type": "code",
   "execution_count": 41,
   "metadata": {},
   "outputs": [],
   "source": [
    "lst_outliers = outliers_detection(data, \"LogElapsedSec\")"
   ]
  },
  {
   "cell_type": "code",
   "execution_count": 42,
   "metadata": {},
   "outputs": [
    {
     "name": "stdout",
     "output_type": "stream",
     "text": [
      "#samples outlier to distribution = 6664\n",
      "%outliers = 0.52 %\n"
     ]
    }
   ],
   "source": [
    "print(f\"#samples outlier to distribution = {len(lst_outliers)}\")\n",
    "print(f\"%outliers = {round(100* len(lst_outliers)/len(data), 2)} %\")"
   ]
  },
  {
   "cell_type": "markdown",
   "metadata": {},
   "source": [
    "Split Data"
   ]
  },
  {
   "cell_type": "code",
   "execution_count": 43,
   "metadata": {},
   "outputs": [],
   "source": [
    "# split independent (X) and dependent variable (Y)\n",
    "x = data.drop(columns = [\"LogElapsedSec\"])\n",
    "y = data[\"LogElapsedSec\"]"
   ]
  },
  {
   "cell_type": "code",
   "execution_count": 44,
   "metadata": {},
   "outputs": [],
   "source": [
    "# split train and test data\n",
    "from sklearn.model_selection import train_test_split\n",
    "x_train, x_test, y_train, y_test = train_test_split(x, y, test_size = 0.2, random_state = 0)"
   ]
  },
  {
   "cell_type": "code",
   "execution_count": 45,
   "metadata": {},
   "outputs": [
    {
     "name": "stdout",
     "output_type": "stream",
     "text": [
      "#train samples =  1020721\n",
      "#test samples =  255181\n"
     ]
    }
   ],
   "source": [
    "# check number of samples\n",
    "print(\"#train samples = \", len(x_train))\n",
    "print(\"#test samples = \", len(x_test))"
   ]
  },
  {
   "cell_type": "markdown",
   "metadata": {},
   "source": [
    "Functions to save and load models"
   ]
  },
  {
   "cell_type": "code",
   "execution_count": 46,
   "metadata": {},
   "outputs": [],
   "source": [
    "import pickle\n",
    "\n",
    "# function to save model\n",
    "def save_model(filename, model):\n",
    "    with open(filename, \"wb\") as file:\n",
    "        pickle.dump(model, file)"
   ]
  },
  {
   "cell_type": "code",
   "execution_count": 47,
   "metadata": {},
   "outputs": [],
   "source": [
    "# function to load model\n",
    "def load_model(filename):\n",
    "    with open(filename, \"rb\") as file:\n",
    "        return pickle.load(file)"
   ]
  },
  {
   "cell_type": "markdown",
   "metadata": {},
   "source": [
    "### Training models  \n",
    "Benchmark for models:  \n",
    "- XGBoost Regressor  \n",
    "- LightGBM Regressor\n",
    "- Support Vector Regressor (SVR) + RBF  \n",
    "- Multilayer Perceptron (MLP)"
   ]
  },
  {
   "cell_type": "code",
   "execution_count": 48,
   "metadata": {},
   "outputs": [],
   "source": [
    "from sklearn.model_selection import GridSearchCV"
   ]
  },
  {
   "cell_type": "markdown",
   "metadata": {},
   "source": [
    "#### XGBoost Regressor"
   ]
  },
  {
   "cell_type": "markdown",
   "metadata": {},
   "source": [
    "Training with XGBoost Regressor + Hyperparameter Tuning"
   ]
  },
  {
   "cell_type": "code",
   "execution_count": 49,
   "metadata": {},
   "outputs": [],
   "source": [
    "import xgboost as xgb\n",
    "\n",
    "xgb_params = {          \n",
    "    \"max_depth\": [16, 32, 48, 64],\n",
    "    \"learning_rate\": [0.01, 0.05, 0.1],\n",
    "    \"subsample\": [0.7, 0.8],\n",
    "    \"colsample_bytree\": [0.8, 0.9],     \n",
    "    \"tree_method\": [\"hist\"],\n",
    "    \"objective\": [\"reg:squarederror\"]\n",
    "}"
   ]
  },
  {
   "cell_type": "code",
   "execution_count": 50,
   "metadata": {},
   "outputs": [],
   "source": [
    "# function for training\n",
    "def XGBModel(x_train, y_train, params):\n",
    "    # define the model    \n",
    "    model = xgb.XGBRegressor()\n",
    "    \n",
    "    # hyperparameter optimization\n",
    "    grid_search = GridSearchCV(estimator = model,\n",
    "                               param_grid = params,\n",
    "                               scoring = \"neg_mean_squared_error\",\n",
    "                               cv = 5,\n",
    "                               n_jobs = -1\n",
    "                            )\n",
    "    grid_search.fit(x_train, y_train)\n",
    "    \n",
    "    # get best model\n",
    "    best_model = grid_search.best_estimator_\n",
    "    print(grid_search.best_params_)\n",
    "    \n",
    "    return best_model"
   ]
  },
  {
   "cell_type": "code",
   "execution_count": 51,
   "metadata": {},
   "outputs": [],
   "source": [
    "start_ttrain = time.time()"
   ]
  },
  {
   "cell_type": "code",
   "execution_count": 52,
   "metadata": {},
   "outputs": [
    {
     "name": "stderr",
     "output_type": "stream",
     "text": [
      "/home/iknthsait/holtech/.local/lib/python3.10/site-packages/joblib/externals/loky/process_executor.py:752: UserWarning: A worker stopped while some jobs were given to the executor. This can be caused by a too short worker timeout or by a memory leak.\n",
      "  warnings.warn(\n"
     ]
    },
    {
     "name": "stdout",
     "output_type": "stream",
     "text": [
      "{'colsample_bytree': 0.8, 'learning_rate': 0.05, 'max_depth': 32, 'objective': 'reg:squarederror', 'subsample': 0.7, 'tree_method': 'hist'}\n"
     ]
    }
   ],
   "source": [
    "xgb_model = XGBModel(x_train, y_train, xgb_params)"
   ]
  },
  {
   "cell_type": "code",
   "execution_count": 53,
   "metadata": {},
   "outputs": [
    {
     "name": "stdout",
     "output_type": "stream",
     "text": [
      "Time of training: 2088.8206140995026 seconds\n"
     ]
    }
   ],
   "source": [
    "end_ttrain = time.time()\n",
    "print(f\"Time of training: {end_ttrain - start_ttrain} seconds\")"
   ]
  },
  {
   "cell_type": "code",
   "execution_count": 54,
   "metadata": {},
   "outputs": [
    {
     "data": {
      "text/html": [
       "<style>#sk-container-id-1 {color: black;}#sk-container-id-1 pre{padding: 0;}#sk-container-id-1 div.sk-toggleable {background-color: white;}#sk-container-id-1 label.sk-toggleable__label {cursor: pointer;display: block;width: 100%;margin-bottom: 0;padding: 0.3em;box-sizing: border-box;text-align: center;}#sk-container-id-1 label.sk-toggleable__label-arrow:before {content: \"▸\";float: left;margin-right: 0.25em;color: #696969;}#sk-container-id-1 label.sk-toggleable__label-arrow:hover:before {color: black;}#sk-container-id-1 div.sk-estimator:hover label.sk-toggleable__label-arrow:before {color: black;}#sk-container-id-1 div.sk-toggleable__content {max-height: 0;max-width: 0;overflow: hidden;text-align: left;background-color: #f0f8ff;}#sk-container-id-1 div.sk-toggleable__content pre {margin: 0.2em;color: black;border-radius: 0.25em;background-color: #f0f8ff;}#sk-container-id-1 input.sk-toggleable__control:checked~div.sk-toggleable__content {max-height: 200px;max-width: 100%;overflow: auto;}#sk-container-id-1 input.sk-toggleable__control:checked~label.sk-toggleable__label-arrow:before {content: \"▾\";}#sk-container-id-1 div.sk-estimator input.sk-toggleable__control:checked~label.sk-toggleable__label {background-color: #d4ebff;}#sk-container-id-1 div.sk-label input.sk-toggleable__control:checked~label.sk-toggleable__label {background-color: #d4ebff;}#sk-container-id-1 input.sk-hidden--visually {border: 0;clip: rect(1px 1px 1px 1px);clip: rect(1px, 1px, 1px, 1px);height: 1px;margin: -1px;overflow: hidden;padding: 0;position: absolute;width: 1px;}#sk-container-id-1 div.sk-estimator {font-family: monospace;background-color: #f0f8ff;border: 1px dotted black;border-radius: 0.25em;box-sizing: border-box;margin-bottom: 0.5em;}#sk-container-id-1 div.sk-estimator:hover {background-color: #d4ebff;}#sk-container-id-1 div.sk-parallel-item::after {content: \"\";width: 100%;border-bottom: 1px solid gray;flex-grow: 1;}#sk-container-id-1 div.sk-label:hover label.sk-toggleable__label {background-color: #d4ebff;}#sk-container-id-1 div.sk-serial::before {content: \"\";position: absolute;border-left: 1px solid gray;box-sizing: border-box;top: 0;bottom: 0;left: 50%;z-index: 0;}#sk-container-id-1 div.sk-serial {display: flex;flex-direction: column;align-items: center;background-color: white;padding-right: 0.2em;padding-left: 0.2em;position: relative;}#sk-container-id-1 div.sk-item {position: relative;z-index: 1;}#sk-container-id-1 div.sk-parallel {display: flex;align-items: stretch;justify-content: center;background-color: white;position: relative;}#sk-container-id-1 div.sk-item::before, #sk-container-id-1 div.sk-parallel-item::before {content: \"\";position: absolute;border-left: 1px solid gray;box-sizing: border-box;top: 0;bottom: 0;left: 50%;z-index: -1;}#sk-container-id-1 div.sk-parallel-item {display: flex;flex-direction: column;z-index: 1;position: relative;background-color: white;}#sk-container-id-1 div.sk-parallel-item:first-child::after {align-self: flex-end;width: 50%;}#sk-container-id-1 div.sk-parallel-item:last-child::after {align-self: flex-start;width: 50%;}#sk-container-id-1 div.sk-parallel-item:only-child::after {width: 0;}#sk-container-id-1 div.sk-dashed-wrapped {border: 1px dashed gray;margin: 0 0.4em 0.5em 0.4em;box-sizing: border-box;padding-bottom: 0.4em;background-color: white;}#sk-container-id-1 div.sk-label label {font-family: monospace;font-weight: bold;display: inline-block;line-height: 1.2em;}#sk-container-id-1 div.sk-label-container {text-align: center;}#sk-container-id-1 div.sk-container {/* jupyter's `normalize.less` sets `[hidden] { display: none; }` but bootstrap.min.css set `[hidden] { display: none !important; }` so we also need the `!important` here to be able to override the default hidden behavior on the sphinx rendered scikit-learn.org. See: https://github.com/scikit-learn/scikit-learn/issues/21755 */display: inline-block !important;position: relative;}#sk-container-id-1 div.sk-text-repr-fallback {display: none;}</style><div id=\"sk-container-id-1\" class=\"sk-top-container\"><div class=\"sk-text-repr-fallback\"><pre>XGBRegressor(base_score=None, booster=None, callbacks=None,\n",
       "             colsample_bylevel=None, colsample_bynode=None,\n",
       "             colsample_bytree=0.8, device=None, early_stopping_rounds=None,\n",
       "             enable_categorical=False, eval_metric=None, feature_types=None,\n",
       "             gamma=None, grow_policy=None, importance_type=None,\n",
       "             interaction_constraints=None, learning_rate=0.05, max_bin=None,\n",
       "             max_cat_threshold=None, max_cat_to_onehot=None,\n",
       "             max_delta_step=None, max_depth=32, max_leaves=None,\n",
       "             min_child_weight=None, missing=nan, monotone_constraints=None,\n",
       "             multi_strategy=None, n_estimators=None, n_jobs=None,\n",
       "             num_parallel_tree=None, random_state=None, ...)</pre><b>In a Jupyter environment, please rerun this cell to show the HTML representation or trust the notebook. <br />On GitHub, the HTML representation is unable to render, please try loading this page with nbviewer.org.</b></div><div class=\"sk-container\" hidden><div class=\"sk-item\"><div class=\"sk-estimator sk-toggleable\"><input class=\"sk-toggleable__control sk-hidden--visually\" id=\"sk-estimator-id-1\" type=\"checkbox\" checked><label for=\"sk-estimator-id-1\" class=\"sk-toggleable__label sk-toggleable__label-arrow\">XGBRegressor</label><div class=\"sk-toggleable__content\"><pre>XGBRegressor(base_score=None, booster=None, callbacks=None,\n",
       "             colsample_bylevel=None, colsample_bynode=None,\n",
       "             colsample_bytree=0.8, device=None, early_stopping_rounds=None,\n",
       "             enable_categorical=False, eval_metric=None, feature_types=None,\n",
       "             gamma=None, grow_policy=None, importance_type=None,\n",
       "             interaction_constraints=None, learning_rate=0.05, max_bin=None,\n",
       "             max_cat_threshold=None, max_cat_to_onehot=None,\n",
       "             max_delta_step=None, max_depth=32, max_leaves=None,\n",
       "             min_child_weight=None, missing=nan, monotone_constraints=None,\n",
       "             multi_strategy=None, n_estimators=None, n_jobs=None,\n",
       "             num_parallel_tree=None, random_state=None, ...)</pre></div></div></div></div></div>"
      ],
      "text/plain": [
       "XGBRegressor(base_score=None, booster=None, callbacks=None,\n",
       "             colsample_bylevel=None, colsample_bynode=None,\n",
       "             colsample_bytree=0.8, device=None, early_stopping_rounds=None,\n",
       "             enable_categorical=False, eval_metric=None, feature_types=None,\n",
       "             gamma=None, grow_policy=None, importance_type=None,\n",
       "             interaction_constraints=None, learning_rate=0.05, max_bin=None,\n",
       "             max_cat_threshold=None, max_cat_to_onehot=None,\n",
       "             max_delta_step=None, max_depth=32, max_leaves=None,\n",
       "             min_child_weight=None, missing=nan, monotone_constraints=None,\n",
       "             multi_strategy=None, n_estimators=None, n_jobs=None,\n",
       "             num_parallel_tree=None, random_state=None, ...)"
      ]
     },
     "execution_count": 54,
     "metadata": {},
     "output_type": "execute_result"
    }
   ],
   "source": [
    "xgb_model"
   ]
  },
  {
   "cell_type": "code",
   "execution_count": 56,
   "metadata": {},
   "outputs": [],
   "source": [
    "# save xgb model\n",
    "save_model(\"models/xgb_scc_mod_v1.pkl\", xgb_model)"
   ]
  },
  {
   "cell_type": "markdown",
   "metadata": {},
   "source": [
    "Inference with XGBoost Regressor"
   ]
  },
  {
   "cell_type": "code",
   "execution_count": 57,
   "metadata": {},
   "outputs": [],
   "source": [
    "# recover the model\n",
    "rec_xgb = load_model(\"models/xgb_scc_mod_v1.pkl\")"
   ]
  },
  {
   "cell_type": "code",
   "execution_count": 58,
   "metadata": {},
   "outputs": [],
   "source": [
    "# function to evaluate\n",
    "from sklearn.metrics import mean_squared_error, r2_score\n",
    "\n",
    "def eval_model_perform(model, x, y):    \n",
    "    y_pred = model.predict(x)\n",
    "    rmse_val = np.sqrt(mean_squared_error(y, y_pred))\n",
    "    r2_val = r2_score(y, y_pred)\n",
    "\n",
    "    return rmse_val, r2_val"
   ]
  },
  {
   "cell_type": "code",
   "execution_count": 59,
   "metadata": {},
   "outputs": [
    {
     "name": "stdout",
     "output_type": "stream",
     "text": [
      "R-MSE train score: 0.356\n",
      "R^2 train score: 0.852\n"
     ]
    }
   ],
   "source": [
    "# metrics for train set\n",
    "rmse_xgb_train, r2_xgb_train = eval_model_perform(rec_xgb, x_train, y_train)\n",
    "print(f\"R-MSE train score: {rmse_xgb_train:.3f}\")\n",
    "print(f\"R^2 train score: {r2_xgb_train:.3f}\")"
   ]
  },
  {
   "cell_type": "code",
   "execution_count": 60,
   "metadata": {},
   "outputs": [
    {
     "name": "stdout",
     "output_type": "stream",
     "text": [
      "R-MSE train score: 0.434\n",
      "R^2 train score: 0.781\n"
     ]
    }
   ],
   "source": [
    "# r2-score for test set\n",
    "rmse_xgb_test, r2_xgb_test = eval_model_perform(rec_xgb, x_test, y_test)\n",
    "print(f\"R-MSE train score: {rmse_xgb_test:.3f}\")\n",
    "print(f\"R^2 train score: {r2_xgb_test:.3f}\")"
   ]
  },
  {
   "cell_type": "markdown",
   "metadata": {},
   "source": [
    "******"
   ]
  },
  {
   "cell_type": "markdown",
   "metadata": {},
   "source": []
  },
  {
   "cell_type": "markdown",
   "metadata": {},
   "source": [
    "#### LightGBM Regressor"
   ]
  },
  {
   "cell_type": "markdown",
   "metadata": {},
   "source": [
    "Training with LightGBM Regressor + Hyperparameter Tuning"
   ]
  },
  {
   "cell_type": "code",
   "execution_count": 61,
   "metadata": {},
   "outputs": [
    {
     "name": "stdout",
     "output_type": "stream",
     "text": [
      "Name: lightgbm\n",
      "Version: 2.2.3\n",
      "Summary: LightGBM Python Package\n",
      "Home-page: https://github.com/Microsoft/LightGBM\n",
      "Author: \n",
      "Author-email: \n",
      "License: The MIT License (Microsoft)\n",
      "Location: /home/iknthsait/holtech/.local/lib/python3.10/site-packages\n",
      "Requires: numpy, scikit-learn, scipy\n",
      "Required-by: \n"
     ]
    }
   ],
   "source": [
    "!pip show lightgbm"
   ]
  },
  {
   "cell_type": "code",
   "execution_count": 66,
   "metadata": {},
   "outputs": [],
   "source": [
    "# import packages\n",
    "import lightgbm as lgbm\n",
    "\n",
    "# define grid hyperparameters\n",
    "lgbm_params = {    \n",
    "    \"num_leaves\": [256, 512, 1024, 2048],\n",
    "    \"max_depth\": [20, 30, 40, 50],\n",
    "    \"learning_rate\": [0.01, 0.05, 0.1],\n",
    "    \"subsample\": [0.8, 0.9],\n",
    "    \"subsample_freq\": [10] # re-sample without replacement every 10 iterations\n",
    "                         # and extract bagging_fraction% of training data\n",
    "}"
   ]
  },
  {
   "cell_type": "code",
   "execution_count": 67,
   "metadata": {},
   "outputs": [],
   "source": [
    "# define the LightGBM regressor\n",
    "def LightGBModel(x_train, y_train, params):\n",
    "    lgbm_model = lgbm.LGBMRegressor()\n",
    "    \n",
    "    # hyperparameter optimization\n",
    "    grid_lgbm = GridSearchCV(estimator = lgbm_model,  # regressor model\n",
    "                         param_grid = params,  # dict of hyperparameters\n",
    "                         cv = 5,   # 5-fold cross-validation\n",
    "                         scoring = \"r2\",\n",
    "                         verbose = False,\n",
    "                         n_jobs = -1\n",
    "                    )\n",
    "    # fit the model\n",
    "    grid_lgbm.fit(x_train, y_train)\n",
    "    \n",
    "    # take best model\n",
    "    best_model = grid_lgbm.best_estimator_\n",
    "    print(grid_lgbm.best_params_)\n",
    "\n",
    "    return best_model"
   ]
  },
  {
   "cell_type": "code",
   "execution_count": 68,
   "metadata": {},
   "outputs": [],
   "source": [
    "start_ttrain2 = time.time()"
   ]
  },
  {
   "cell_type": "code",
   "execution_count": 69,
   "metadata": {},
   "outputs": [
    {
     "name": "stdout",
     "output_type": "stream",
     "text": [
      "{'learning_rate': 0.1, 'max_depth': 50, 'num_leaves': 2048, 'subsample': 0.9, 'subsample_freq': 10}\n"
     ]
    }
   ],
   "source": [
    "# take the best model\n",
    "lgbm_model = LightGBModel(x_train, y_train, lgbm_params)"
   ]
  },
  {
   "cell_type": "code",
   "execution_count": 70,
   "metadata": {},
   "outputs": [
    {
     "name": "stdout",
     "output_type": "stream",
     "text": [
      "Time of training: 972.7517931461334\n"
     ]
    }
   ],
   "source": [
    "end_ttrain2 = time.time()\n",
    "print(f\"Time of training: {end_ttrain2 - start_ttrain2}\")"
   ]
  },
  {
   "cell_type": "code",
   "execution_count": 71,
   "metadata": {},
   "outputs": [
    {
     "data": {
      "text/html": [
       "<style>#sk-container-id-2 {color: black;}#sk-container-id-2 pre{padding: 0;}#sk-container-id-2 div.sk-toggleable {background-color: white;}#sk-container-id-2 label.sk-toggleable__label {cursor: pointer;display: block;width: 100%;margin-bottom: 0;padding: 0.3em;box-sizing: border-box;text-align: center;}#sk-container-id-2 label.sk-toggleable__label-arrow:before {content: \"▸\";float: left;margin-right: 0.25em;color: #696969;}#sk-container-id-2 label.sk-toggleable__label-arrow:hover:before {color: black;}#sk-container-id-2 div.sk-estimator:hover label.sk-toggleable__label-arrow:before {color: black;}#sk-container-id-2 div.sk-toggleable__content {max-height: 0;max-width: 0;overflow: hidden;text-align: left;background-color: #f0f8ff;}#sk-container-id-2 div.sk-toggleable__content pre {margin: 0.2em;color: black;border-radius: 0.25em;background-color: #f0f8ff;}#sk-container-id-2 input.sk-toggleable__control:checked~div.sk-toggleable__content {max-height: 200px;max-width: 100%;overflow: auto;}#sk-container-id-2 input.sk-toggleable__control:checked~label.sk-toggleable__label-arrow:before {content: \"▾\";}#sk-container-id-2 div.sk-estimator input.sk-toggleable__control:checked~label.sk-toggleable__label {background-color: #d4ebff;}#sk-container-id-2 div.sk-label input.sk-toggleable__control:checked~label.sk-toggleable__label {background-color: #d4ebff;}#sk-container-id-2 input.sk-hidden--visually {border: 0;clip: rect(1px 1px 1px 1px);clip: rect(1px, 1px, 1px, 1px);height: 1px;margin: -1px;overflow: hidden;padding: 0;position: absolute;width: 1px;}#sk-container-id-2 div.sk-estimator {font-family: monospace;background-color: #f0f8ff;border: 1px dotted black;border-radius: 0.25em;box-sizing: border-box;margin-bottom: 0.5em;}#sk-container-id-2 div.sk-estimator:hover {background-color: #d4ebff;}#sk-container-id-2 div.sk-parallel-item::after {content: \"\";width: 100%;border-bottom: 1px solid gray;flex-grow: 1;}#sk-container-id-2 div.sk-label:hover label.sk-toggleable__label {background-color: #d4ebff;}#sk-container-id-2 div.sk-serial::before {content: \"\";position: absolute;border-left: 1px solid gray;box-sizing: border-box;top: 0;bottom: 0;left: 50%;z-index: 0;}#sk-container-id-2 div.sk-serial {display: flex;flex-direction: column;align-items: center;background-color: white;padding-right: 0.2em;padding-left: 0.2em;position: relative;}#sk-container-id-2 div.sk-item {position: relative;z-index: 1;}#sk-container-id-2 div.sk-parallel {display: flex;align-items: stretch;justify-content: center;background-color: white;position: relative;}#sk-container-id-2 div.sk-item::before, #sk-container-id-2 div.sk-parallel-item::before {content: \"\";position: absolute;border-left: 1px solid gray;box-sizing: border-box;top: 0;bottom: 0;left: 50%;z-index: -1;}#sk-container-id-2 div.sk-parallel-item {display: flex;flex-direction: column;z-index: 1;position: relative;background-color: white;}#sk-container-id-2 div.sk-parallel-item:first-child::after {align-self: flex-end;width: 50%;}#sk-container-id-2 div.sk-parallel-item:last-child::after {align-self: flex-start;width: 50%;}#sk-container-id-2 div.sk-parallel-item:only-child::after {width: 0;}#sk-container-id-2 div.sk-dashed-wrapped {border: 1px dashed gray;margin: 0 0.4em 0.5em 0.4em;box-sizing: border-box;padding-bottom: 0.4em;background-color: white;}#sk-container-id-2 div.sk-label label {font-family: monospace;font-weight: bold;display: inline-block;line-height: 1.2em;}#sk-container-id-2 div.sk-label-container {text-align: center;}#sk-container-id-2 div.sk-container {/* jupyter's `normalize.less` sets `[hidden] { display: none; }` but bootstrap.min.css set `[hidden] { display: none !important; }` so we also need the `!important` here to be able to override the default hidden behavior on the sphinx rendered scikit-learn.org. See: https://github.com/scikit-learn/scikit-learn/issues/21755 */display: inline-block !important;position: relative;}#sk-container-id-2 div.sk-text-repr-fallback {display: none;}</style><div id=\"sk-container-id-2\" class=\"sk-top-container\"><div class=\"sk-text-repr-fallback\"><pre>LGBMRegressor(max_depth=50, num_leaves=2048, subsample=0.9, subsample_freq=10)</pre><b>In a Jupyter environment, please rerun this cell to show the HTML representation or trust the notebook. <br />On GitHub, the HTML representation is unable to render, please try loading this page with nbviewer.org.</b></div><div class=\"sk-container\" hidden><div class=\"sk-item\"><div class=\"sk-estimator sk-toggleable\"><input class=\"sk-toggleable__control sk-hidden--visually\" id=\"sk-estimator-id-2\" type=\"checkbox\" checked><label for=\"sk-estimator-id-2\" class=\"sk-toggleable__label sk-toggleable__label-arrow\">LGBMRegressor</label><div class=\"sk-toggleable__content\"><pre>LGBMRegressor(max_depth=50, num_leaves=2048, subsample=0.9, subsample_freq=10)</pre></div></div></div></div></div>"
      ],
      "text/plain": [
       "LGBMRegressor(max_depth=50, num_leaves=2048, subsample=0.9, subsample_freq=10)"
      ]
     },
     "execution_count": 71,
     "metadata": {},
     "output_type": "execute_result"
    }
   ],
   "source": [
    "lgbm_model"
   ]
  },
  {
   "cell_type": "code",
   "execution_count": 72,
   "metadata": {},
   "outputs": [],
   "source": [
    "# save best xgboost model\n",
    "save_model(\"models/lgbm_scc_mod_v1.pkl\", lgbm_model)"
   ]
  },
  {
   "cell_type": "markdown",
   "metadata": {},
   "source": [
    "Inference with LightGBM"
   ]
  },
  {
   "cell_type": "code",
   "execution_count": 73,
   "metadata": {},
   "outputs": [],
   "source": [
    "# recover the model\n",
    "rec_lgbm = load_model(\"models/lgbm_scc_mod_v1.pkl\")"
   ]
  },
  {
   "cell_type": "code",
   "execution_count": 74,
   "metadata": {},
   "outputs": [
    {
     "name": "stdout",
     "output_type": "stream",
     "text": [
      "R-MSE train score: 0.400\n",
      "R^2 train score: 0.813\n"
     ]
    }
   ],
   "source": [
    "# metrics for train set\n",
    "rmse_lgbm_train, r2_lgbm_train = eval_model_perform(rec_lgbm, x_train, y_train)\n",
    "print(f\"R-MSE train score: {rmse_lgbm_train:.3f}\")\n",
    "print(f\"R^2 train score: {r2_lgbm_train:.3f}\")"
   ]
  },
  {
   "cell_type": "code",
   "execution_count": 75,
   "metadata": {},
   "outputs": [
    {
     "name": "stdout",
     "output_type": "stream",
     "text": [
      "R-MSE test score: 0.435\n",
      "R^2 test score: 0.780\n"
     ]
    }
   ],
   "source": [
    "# metrics for test set\n",
    "rmse_lgbm_test, r2_lgbm_test = eval_model_perform(rec_lgbm, x_test, y_test)\n",
    "print(f\"R-MSE test score: {rmse_lgbm_test:.3f}\")\n",
    "print(f\"R^2 test score: {r2_lgbm_test:.3f}\")"
   ]
  },
  {
   "cell_type": "markdown",
   "metadata": {},
   "source": [
    "*******"
   ]
  },
  {
   "cell_type": "code",
   "execution_count": null,
   "metadata": {},
   "outputs": [],
   "source": []
  },
  {
   "cell_type": "markdown",
   "metadata": {},
   "source": [
    "#### Support Vector Regressor (SVR) + RBF"
   ]
  },
  {
   "cell_type": "markdown",
   "metadata": {},
   "source": [
    "Training with SVR + Hyperparameter Tuning"
   ]
  },
  {
   "cell_type": "code",
   "execution_count": 62,
   "metadata": {},
   "outputs": [],
   "source": [
    "from sklearn import svm\n",
    "\n",
    "# define grid hyperparameters\n",
    "svr_params = {\n",
    "    \"C\": [0.1, 0.5, 1, 10, 100],\n",
    "    \"epsilon\": [0.01, 0.1, 1],\n",
    "    \"gamma\": [5e-3, 0.01, 0.1, 1]\n",
    "}"
   ]
  },
  {
   "cell_type": "code",
   "execution_count": 63,
   "metadata": {},
   "outputs": [],
   "source": [
    "# define the SVR\n",
    "def SVRModel(x_train, y_train, params):\n",
    "    svr_model = svm.SVR(kernel = \"rbf\")\n",
    "\n",
    "    # hyperparameter optimization\n",
    "    grid_svr = GridSearchCV(estimator = svr_model,  # regressor model\n",
    "                         param_grid = params,  # dict of hyperparameters\n",
    "                         cv = 5,   # 5-fold cross-validation\n",
    "                         scoring = \"neg_mean_squared_error\",\n",
    "                         verbose = False,\n",
    "                         n_jobs = -1\n",
    "                    )\n",
    "    # fit model\n",
    "    grid_svr.fit(x_train, y_train)\n",
    "\n",
    "    # take best model\n",
    "    best_model = grid_svr.best_estimator_\n",
    "    print(grid_svr.best_params_)\n",
    "\n",
    "    return best_model"
   ]
  },
  {
   "cell_type": "code",
   "execution_count": 64,
   "metadata": {},
   "outputs": [],
   "source": [
    "start_ttrain3 = time.time()"
   ]
  },
  {
   "cell_type": "code",
   "execution_count": 65,
   "metadata": {},
   "outputs": [
    {
     "ename": "KeyboardInterrupt",
     "evalue": "",
     "output_type": "error",
     "traceback": [
      "\u001b[0;31m---------------------------------------------------------------------------\u001b[0m",
      "\u001b[0;31mKeyboardInterrupt\u001b[0m                         Traceback (most recent call last)",
      "Cell \u001b[0;32mIn[65], line 2\u001b[0m\n\u001b[1;32m      1\u001b[0m \u001b[38;5;66;03m# take the best model\u001b[39;00m\n\u001b[0;32m----> 2\u001b[0m svr_model \u001b[38;5;241m=\u001b[39m \u001b[43mSVRModel\u001b[49m\u001b[43m(\u001b[49m\u001b[43mx_train\u001b[49m\u001b[43m,\u001b[49m\u001b[43m \u001b[49m\u001b[43my_train\u001b[49m\u001b[43m,\u001b[49m\u001b[43m \u001b[49m\u001b[43msvr_params\u001b[49m\u001b[43m)\u001b[49m\n",
      "Cell \u001b[0;32mIn[63], line 14\u001b[0m, in \u001b[0;36mSVRModel\u001b[0;34m(x_train, y_train, params)\u001b[0m\n\u001b[1;32m      6\u001b[0m grid_svr \u001b[38;5;241m=\u001b[39m GridSearchCV(estimator \u001b[38;5;241m=\u001b[39m svr_model,  \u001b[38;5;66;03m# regressor model\u001b[39;00m\n\u001b[1;32m      7\u001b[0m                      param_grid \u001b[38;5;241m=\u001b[39m params,  \u001b[38;5;66;03m# dict of hyperparameters\u001b[39;00m\n\u001b[1;32m      8\u001b[0m                      cv \u001b[38;5;241m=\u001b[39m \u001b[38;5;241m5\u001b[39m,   \u001b[38;5;66;03m# 5-fold cross-validation\u001b[39;00m\n\u001b[0;32m   (...)\u001b[0m\n\u001b[1;32m     11\u001b[0m                      n_jobs \u001b[38;5;241m=\u001b[39m \u001b[38;5;241m-\u001b[39m\u001b[38;5;241m1\u001b[39m\n\u001b[1;32m     12\u001b[0m                 )\n\u001b[1;32m     13\u001b[0m \u001b[38;5;66;03m# fit model\u001b[39;00m\n\u001b[0;32m---> 14\u001b[0m \u001b[43mgrid_svr\u001b[49m\u001b[38;5;241;43m.\u001b[39;49m\u001b[43mfit\u001b[49m\u001b[43m(\u001b[49m\u001b[43mx_train\u001b[49m\u001b[43m,\u001b[49m\u001b[43m \u001b[49m\u001b[43my_train\u001b[49m\u001b[43m)\u001b[49m\n\u001b[1;32m     16\u001b[0m \u001b[38;5;66;03m# take best model\u001b[39;00m\n\u001b[1;32m     17\u001b[0m best_model \u001b[38;5;241m=\u001b[39m grid_svr\u001b[38;5;241m.\u001b[39mbest_estimator_\n",
      "File \u001b[0;32m~/.local/lib/python3.10/site-packages/sklearn/base.py:1152\u001b[0m, in \u001b[0;36m_fit_context.<locals>.decorator.<locals>.wrapper\u001b[0;34m(estimator, *args, **kwargs)\u001b[0m\n\u001b[1;32m   1145\u001b[0m     estimator\u001b[38;5;241m.\u001b[39m_validate_params()\n\u001b[1;32m   1147\u001b[0m \u001b[38;5;28;01mwith\u001b[39;00m config_context(\n\u001b[1;32m   1148\u001b[0m     skip_parameter_validation\u001b[38;5;241m=\u001b[39m(\n\u001b[1;32m   1149\u001b[0m         prefer_skip_nested_validation \u001b[38;5;129;01mor\u001b[39;00m global_skip_validation\n\u001b[1;32m   1150\u001b[0m     )\n\u001b[1;32m   1151\u001b[0m ):\n\u001b[0;32m-> 1152\u001b[0m     \u001b[38;5;28;01mreturn\u001b[39;00m \u001b[43mfit_method\u001b[49m\u001b[43m(\u001b[49m\u001b[43mestimator\u001b[49m\u001b[43m,\u001b[49m\u001b[43m \u001b[49m\u001b[38;5;241;43m*\u001b[39;49m\u001b[43margs\u001b[49m\u001b[43m,\u001b[49m\u001b[43m \u001b[49m\u001b[38;5;241;43m*\u001b[39;49m\u001b[38;5;241;43m*\u001b[39;49m\u001b[43mkwargs\u001b[49m\u001b[43m)\u001b[49m\n",
      "File \u001b[0;32m~/.local/lib/python3.10/site-packages/sklearn/model_selection/_search.py:898\u001b[0m, in \u001b[0;36mBaseSearchCV.fit\u001b[0;34m(self, X, y, groups, **fit_params)\u001b[0m\n\u001b[1;32m    892\u001b[0m     results \u001b[38;5;241m=\u001b[39m \u001b[38;5;28mself\u001b[39m\u001b[38;5;241m.\u001b[39m_format_results(\n\u001b[1;32m    893\u001b[0m         all_candidate_params, n_splits, all_out, all_more_results\n\u001b[1;32m    894\u001b[0m     )\n\u001b[1;32m    896\u001b[0m     \u001b[38;5;28;01mreturn\u001b[39;00m results\n\u001b[0;32m--> 898\u001b[0m \u001b[38;5;28;43mself\u001b[39;49m\u001b[38;5;241;43m.\u001b[39;49m\u001b[43m_run_search\u001b[49m\u001b[43m(\u001b[49m\u001b[43mevaluate_candidates\u001b[49m\u001b[43m)\u001b[49m\n\u001b[1;32m    900\u001b[0m \u001b[38;5;66;03m# multimetric is determined here because in the case of a callable\u001b[39;00m\n\u001b[1;32m    901\u001b[0m \u001b[38;5;66;03m# self.scoring the return type is only known after calling\u001b[39;00m\n\u001b[1;32m    902\u001b[0m first_test_score \u001b[38;5;241m=\u001b[39m all_out[\u001b[38;5;241m0\u001b[39m][\u001b[38;5;124m\"\u001b[39m\u001b[38;5;124mtest_scores\u001b[39m\u001b[38;5;124m\"\u001b[39m]\n",
      "File \u001b[0;32m~/.local/lib/python3.10/site-packages/sklearn/model_selection/_search.py:1422\u001b[0m, in \u001b[0;36mGridSearchCV._run_search\u001b[0;34m(self, evaluate_candidates)\u001b[0m\n\u001b[1;32m   1420\u001b[0m \u001b[38;5;28;01mdef\u001b[39;00m \u001b[38;5;21m_run_search\u001b[39m(\u001b[38;5;28mself\u001b[39m, evaluate_candidates):\n\u001b[1;32m   1421\u001b[0m \u001b[38;5;250m    \u001b[39m\u001b[38;5;124;03m\"\"\"Search all candidates in param_grid\"\"\"\u001b[39;00m\n\u001b[0;32m-> 1422\u001b[0m     \u001b[43mevaluate_candidates\u001b[49m\u001b[43m(\u001b[49m\u001b[43mParameterGrid\u001b[49m\u001b[43m(\u001b[49m\u001b[38;5;28;43mself\u001b[39;49m\u001b[38;5;241;43m.\u001b[39;49m\u001b[43mparam_grid\u001b[49m\u001b[43m)\u001b[49m\u001b[43m)\u001b[49m\n",
      "File \u001b[0;32m~/.local/lib/python3.10/site-packages/sklearn/model_selection/_search.py:845\u001b[0m, in \u001b[0;36mBaseSearchCV.fit.<locals>.evaluate_candidates\u001b[0;34m(candidate_params, cv, more_results)\u001b[0m\n\u001b[1;32m    837\u001b[0m \u001b[38;5;28;01mif\u001b[39;00m \u001b[38;5;28mself\u001b[39m\u001b[38;5;241m.\u001b[39mverbose \u001b[38;5;241m>\u001b[39m \u001b[38;5;241m0\u001b[39m:\n\u001b[1;32m    838\u001b[0m     \u001b[38;5;28mprint\u001b[39m(\n\u001b[1;32m    839\u001b[0m         \u001b[38;5;124m\"\u001b[39m\u001b[38;5;124mFitting \u001b[39m\u001b[38;5;132;01m{0}\u001b[39;00m\u001b[38;5;124m folds for each of \u001b[39m\u001b[38;5;132;01m{1}\u001b[39;00m\u001b[38;5;124m candidates,\u001b[39m\u001b[38;5;124m\"\u001b[39m\n\u001b[1;32m    840\u001b[0m         \u001b[38;5;124m\"\u001b[39m\u001b[38;5;124m totalling \u001b[39m\u001b[38;5;132;01m{2}\u001b[39;00m\u001b[38;5;124m fits\u001b[39m\u001b[38;5;124m\"\u001b[39m\u001b[38;5;241m.\u001b[39mformat(\n\u001b[1;32m    841\u001b[0m             n_splits, n_candidates, n_candidates \u001b[38;5;241m*\u001b[39m n_splits\n\u001b[1;32m    842\u001b[0m         )\n\u001b[1;32m    843\u001b[0m     )\n\u001b[0;32m--> 845\u001b[0m out \u001b[38;5;241m=\u001b[39m \u001b[43mparallel\u001b[49m\u001b[43m(\u001b[49m\n\u001b[1;32m    846\u001b[0m \u001b[43m    \u001b[49m\u001b[43mdelayed\u001b[49m\u001b[43m(\u001b[49m\u001b[43m_fit_and_score\u001b[49m\u001b[43m)\u001b[49m\u001b[43m(\u001b[49m\n\u001b[1;32m    847\u001b[0m \u001b[43m        \u001b[49m\u001b[43mclone\u001b[49m\u001b[43m(\u001b[49m\u001b[43mbase_estimator\u001b[49m\u001b[43m)\u001b[49m\u001b[43m,\u001b[49m\n\u001b[1;32m    848\u001b[0m \u001b[43m        \u001b[49m\u001b[43mX\u001b[49m\u001b[43m,\u001b[49m\n\u001b[1;32m    849\u001b[0m \u001b[43m        \u001b[49m\u001b[43my\u001b[49m\u001b[43m,\u001b[49m\n\u001b[1;32m    850\u001b[0m \u001b[43m        \u001b[49m\u001b[43mtrain\u001b[49m\u001b[38;5;241;43m=\u001b[39;49m\u001b[43mtrain\u001b[49m\u001b[43m,\u001b[49m\n\u001b[1;32m    851\u001b[0m \u001b[43m        \u001b[49m\u001b[43mtest\u001b[49m\u001b[38;5;241;43m=\u001b[39;49m\u001b[43mtest\u001b[49m\u001b[43m,\u001b[49m\n\u001b[1;32m    852\u001b[0m \u001b[43m        \u001b[49m\u001b[43mparameters\u001b[49m\u001b[38;5;241;43m=\u001b[39;49m\u001b[43mparameters\u001b[49m\u001b[43m,\u001b[49m\n\u001b[1;32m    853\u001b[0m \u001b[43m        \u001b[49m\u001b[43msplit_progress\u001b[49m\u001b[38;5;241;43m=\u001b[39;49m\u001b[43m(\u001b[49m\u001b[43msplit_idx\u001b[49m\u001b[43m,\u001b[49m\u001b[43m \u001b[49m\u001b[43mn_splits\u001b[49m\u001b[43m)\u001b[49m\u001b[43m,\u001b[49m\n\u001b[1;32m    854\u001b[0m \u001b[43m        \u001b[49m\u001b[43mcandidate_progress\u001b[49m\u001b[38;5;241;43m=\u001b[39;49m\u001b[43m(\u001b[49m\u001b[43mcand_idx\u001b[49m\u001b[43m,\u001b[49m\u001b[43m \u001b[49m\u001b[43mn_candidates\u001b[49m\u001b[43m)\u001b[49m\u001b[43m,\u001b[49m\n\u001b[1;32m    855\u001b[0m \u001b[43m        \u001b[49m\u001b[38;5;241;43m*\u001b[39;49m\u001b[38;5;241;43m*\u001b[39;49m\u001b[43mfit_and_score_kwargs\u001b[49m\u001b[43m,\u001b[49m\n\u001b[1;32m    856\u001b[0m \u001b[43m    \u001b[49m\u001b[43m)\u001b[49m\n\u001b[1;32m    857\u001b[0m \u001b[43m    \u001b[49m\u001b[38;5;28;43;01mfor\u001b[39;49;00m\u001b[43m \u001b[49m\u001b[43m(\u001b[49m\u001b[43mcand_idx\u001b[49m\u001b[43m,\u001b[49m\u001b[43m \u001b[49m\u001b[43mparameters\u001b[49m\u001b[43m)\u001b[49m\u001b[43m,\u001b[49m\u001b[43m \u001b[49m\u001b[43m(\u001b[49m\u001b[43msplit_idx\u001b[49m\u001b[43m,\u001b[49m\u001b[43m \u001b[49m\u001b[43m(\u001b[49m\u001b[43mtrain\u001b[49m\u001b[43m,\u001b[49m\u001b[43m \u001b[49m\u001b[43mtest\u001b[49m\u001b[43m)\u001b[49m\u001b[43m)\u001b[49m\u001b[43m \u001b[49m\u001b[38;5;129;43;01min\u001b[39;49;00m\u001b[43m \u001b[49m\u001b[43mproduct\u001b[49m\u001b[43m(\u001b[49m\n\u001b[1;32m    858\u001b[0m \u001b[43m        \u001b[49m\u001b[38;5;28;43menumerate\u001b[39;49m\u001b[43m(\u001b[49m\u001b[43mcandidate_params\u001b[49m\u001b[43m)\u001b[49m\u001b[43m,\u001b[49m\u001b[43m \u001b[49m\u001b[38;5;28;43menumerate\u001b[39;49m\u001b[43m(\u001b[49m\u001b[43mcv\u001b[49m\u001b[38;5;241;43m.\u001b[39;49m\u001b[43msplit\u001b[49m\u001b[43m(\u001b[49m\u001b[43mX\u001b[49m\u001b[43m,\u001b[49m\u001b[43m \u001b[49m\u001b[43my\u001b[49m\u001b[43m,\u001b[49m\u001b[43m \u001b[49m\u001b[43mgroups\u001b[49m\u001b[43m)\u001b[49m\u001b[43m)\u001b[49m\n\u001b[1;32m    859\u001b[0m \u001b[43m    \u001b[49m\u001b[43m)\u001b[49m\n\u001b[1;32m    860\u001b[0m \u001b[43m\u001b[49m\u001b[43m)\u001b[49m\n\u001b[1;32m    862\u001b[0m \u001b[38;5;28;01mif\u001b[39;00m \u001b[38;5;28mlen\u001b[39m(out) \u001b[38;5;241m<\u001b[39m \u001b[38;5;241m1\u001b[39m:\n\u001b[1;32m    863\u001b[0m     \u001b[38;5;28;01mraise\u001b[39;00m \u001b[38;5;167;01mValueError\u001b[39;00m(\n\u001b[1;32m    864\u001b[0m         \u001b[38;5;124m\"\u001b[39m\u001b[38;5;124mNo fits were performed. \u001b[39m\u001b[38;5;124m\"\u001b[39m\n\u001b[1;32m    865\u001b[0m         \u001b[38;5;124m\"\u001b[39m\u001b[38;5;124mWas the CV iterator empty? \u001b[39m\u001b[38;5;124m\"\u001b[39m\n\u001b[1;32m    866\u001b[0m         \u001b[38;5;124m\"\u001b[39m\u001b[38;5;124mWere there no candidates?\u001b[39m\u001b[38;5;124m\"\u001b[39m\n\u001b[1;32m    867\u001b[0m     )\n",
      "File \u001b[0;32m~/.local/lib/python3.10/site-packages/sklearn/utils/parallel.py:65\u001b[0m, in \u001b[0;36mParallel.__call__\u001b[0;34m(self, iterable)\u001b[0m\n\u001b[1;32m     60\u001b[0m config \u001b[38;5;241m=\u001b[39m get_config()\n\u001b[1;32m     61\u001b[0m iterable_with_config \u001b[38;5;241m=\u001b[39m (\n\u001b[1;32m     62\u001b[0m     (_with_config(delayed_func, config), args, kwargs)\n\u001b[1;32m     63\u001b[0m     \u001b[38;5;28;01mfor\u001b[39;00m delayed_func, args, kwargs \u001b[38;5;129;01min\u001b[39;00m iterable\n\u001b[1;32m     64\u001b[0m )\n\u001b[0;32m---> 65\u001b[0m \u001b[38;5;28;01mreturn\u001b[39;00m \u001b[38;5;28;43msuper\u001b[39;49m\u001b[43m(\u001b[49m\u001b[43m)\u001b[49m\u001b[38;5;241;43m.\u001b[39;49m\u001b[38;5;21;43m__call__\u001b[39;49m\u001b[43m(\u001b[49m\u001b[43miterable_with_config\u001b[49m\u001b[43m)\u001b[49m\n",
      "File \u001b[0;32m~/.local/lib/python3.10/site-packages/joblib/parallel.py:1952\u001b[0m, in \u001b[0;36mParallel.__call__\u001b[0;34m(self, iterable)\u001b[0m\n\u001b[1;32m   1946\u001b[0m \u001b[38;5;66;03m# The first item from the output is blank, but it makes the interpreter\u001b[39;00m\n\u001b[1;32m   1947\u001b[0m \u001b[38;5;66;03m# progress until it enters the Try/Except block of the generator and\u001b[39;00m\n\u001b[1;32m   1948\u001b[0m \u001b[38;5;66;03m# reach the first `yield` statement. This starts the aynchronous\u001b[39;00m\n\u001b[1;32m   1949\u001b[0m \u001b[38;5;66;03m# dispatch of the tasks to the workers.\u001b[39;00m\n\u001b[1;32m   1950\u001b[0m \u001b[38;5;28mnext\u001b[39m(output)\n\u001b[0;32m-> 1952\u001b[0m \u001b[38;5;28;01mreturn\u001b[39;00m output \u001b[38;5;28;01mif\u001b[39;00m \u001b[38;5;28mself\u001b[39m\u001b[38;5;241m.\u001b[39mreturn_generator \u001b[38;5;28;01melse\u001b[39;00m \u001b[38;5;28;43mlist\u001b[39;49m\u001b[43m(\u001b[49m\u001b[43moutput\u001b[49m\u001b[43m)\u001b[49m\n",
      "File \u001b[0;32m~/.local/lib/python3.10/site-packages/joblib/parallel.py:1595\u001b[0m, in \u001b[0;36mParallel._get_outputs\u001b[0;34m(self, iterator, pre_dispatch)\u001b[0m\n\u001b[1;32m   1592\u001b[0m     \u001b[38;5;28;01myield\u001b[39;00m\n\u001b[1;32m   1594\u001b[0m     \u001b[38;5;28;01mwith\u001b[39;00m \u001b[38;5;28mself\u001b[39m\u001b[38;5;241m.\u001b[39m_backend\u001b[38;5;241m.\u001b[39mretrieval_context():\n\u001b[0;32m-> 1595\u001b[0m         \u001b[38;5;28;01myield from\u001b[39;00m \u001b[38;5;28mself\u001b[39m\u001b[38;5;241m.\u001b[39m_retrieve()\n\u001b[1;32m   1597\u001b[0m \u001b[38;5;28;01mexcept\u001b[39;00m \u001b[38;5;167;01mGeneratorExit\u001b[39;00m:\n\u001b[1;32m   1598\u001b[0m     \u001b[38;5;66;03m# The generator has been garbage collected before being fully\u001b[39;00m\n\u001b[1;32m   1599\u001b[0m     \u001b[38;5;66;03m# consumed. This aborts the remaining tasks if possible and warn\u001b[39;00m\n\u001b[1;32m   1600\u001b[0m     \u001b[38;5;66;03m# the user if necessary.\u001b[39;00m\n\u001b[1;32m   1601\u001b[0m     \u001b[38;5;28mself\u001b[39m\u001b[38;5;241m.\u001b[39m_exception \u001b[38;5;241m=\u001b[39m \u001b[38;5;28;01mTrue\u001b[39;00m\n",
      "File \u001b[0;32m~/.local/lib/python3.10/site-packages/joblib/parallel.py:1707\u001b[0m, in \u001b[0;36mParallel._retrieve\u001b[0;34m(self)\u001b[0m\n\u001b[1;32m   1702\u001b[0m \u001b[38;5;66;03m# If the next job is not ready for retrieval yet, we just wait for\u001b[39;00m\n\u001b[1;32m   1703\u001b[0m \u001b[38;5;66;03m# async callbacks to progress.\u001b[39;00m\n\u001b[1;32m   1704\u001b[0m \u001b[38;5;28;01mif\u001b[39;00m ((\u001b[38;5;28mlen\u001b[39m(\u001b[38;5;28mself\u001b[39m\u001b[38;5;241m.\u001b[39m_jobs) \u001b[38;5;241m==\u001b[39m \u001b[38;5;241m0\u001b[39m) \u001b[38;5;129;01mor\u001b[39;00m\n\u001b[1;32m   1705\u001b[0m     (\u001b[38;5;28mself\u001b[39m\u001b[38;5;241m.\u001b[39m_jobs[\u001b[38;5;241m0\u001b[39m]\u001b[38;5;241m.\u001b[39mget_status(\n\u001b[1;32m   1706\u001b[0m         timeout\u001b[38;5;241m=\u001b[39m\u001b[38;5;28mself\u001b[39m\u001b[38;5;241m.\u001b[39mtimeout) \u001b[38;5;241m==\u001b[39m TASK_PENDING)):\n\u001b[0;32m-> 1707\u001b[0m     \u001b[43mtime\u001b[49m\u001b[38;5;241;43m.\u001b[39;49m\u001b[43msleep\u001b[49m\u001b[43m(\u001b[49m\u001b[38;5;241;43m0.01\u001b[39;49m\u001b[43m)\u001b[49m\n\u001b[1;32m   1708\u001b[0m     \u001b[38;5;28;01mcontinue\u001b[39;00m\n\u001b[1;32m   1710\u001b[0m \u001b[38;5;66;03m# We need to be careful: the job list can be filling up as\u001b[39;00m\n\u001b[1;32m   1711\u001b[0m \u001b[38;5;66;03m# we empty it and Python list are not thread-safe by\u001b[39;00m\n\u001b[1;32m   1712\u001b[0m \u001b[38;5;66;03m# default hence the use of the lock\u001b[39;00m\n",
      "\u001b[0;31mKeyboardInterrupt\u001b[0m: "
     ]
    }
   ],
   "source": [
    "# take the best model\n",
    "svr_model = SVRModel(x_train, y_train, svr_params)"
   ]
  },
  {
   "cell_type": "code",
   "execution_count": null,
   "metadata": {},
   "outputs": [],
   "source": [
    "end_ttrain3 = time.time()\n",
    "print(f\"Time of training: {end_ttrain3 - start_ttrain3}\")"
   ]
  },
  {
   "cell_type": "code",
   "execution_count": null,
   "metadata": {},
   "outputs": [],
   "source": [
    "svr_model"
   ]
  },
  {
   "cell_type": "code",
   "execution_count": null,
   "metadata": {},
   "outputs": [],
   "source": [
    "# save best svr model\n",
    "save_model(\"models/svr_scc_mod_v1.pkl\", svr_model)"
   ]
  },
  {
   "cell_type": "markdown",
   "metadata": {},
   "source": [
    "Inference with SVR"
   ]
  },
  {
   "cell_type": "code",
   "execution_count": null,
   "metadata": {},
   "outputs": [],
   "source": [
    "# recover the model\n",
    "rec_svr = load_model(\"models/svr_scc_mod_v1.pkl\")"
   ]
  },
  {
   "cell_type": "code",
   "execution_count": null,
   "metadata": {},
   "outputs": [],
   "source": [
    "# metrics for train set\n",
    "rmse_svr_train, r2_svr_train = eval_model_perform(rec_svr, x_train, y_train)\n",
    "print(f\"R-MSE train score: {rmse_svr_train:.3f}\")\n",
    "print(f\"R^2 train score: {r2_svr_train:.3f}\")"
   ]
  },
  {
   "cell_type": "code",
   "execution_count": null,
   "metadata": {},
   "outputs": [],
   "source": [
    "# metrics for test set\n",
    "rmse_svr_test, r2_svr_test = eval_model_perform(rec_svr, x_test, y_test)\n",
    "print(f\"R-MSE test score: {rmse_svr_test:.3f}\")\n",
    "print(f\"R^2 test score: {r2_svr_test:.3f}\")"
   ]
  },
  {
   "cell_type": "code",
   "execution_count": null,
   "metadata": {},
   "outputs": [],
   "source": []
  },
  {
   "cell_type": "code",
   "execution_count": null,
   "metadata": {},
   "outputs": [],
   "source": []
  }
 ],
 "metadata": {
  "kernelspec": {
   "display_name": "Python 3 (ipykernel)",
   "language": "python",
   "name": "python3"
  },
  "language_info": {
   "codemirror_mode": {
    "name": "ipython",
    "version": 3
   },
   "file_extension": ".py",
   "mimetype": "text/x-python",
   "name": "python",
   "nbconvert_exporter": "python",
   "pygments_lexer": "ipython3",
   "version": "3.11.4"
  }
 },
 "nbformat": 4,
 "nbformat_minor": 4
}
